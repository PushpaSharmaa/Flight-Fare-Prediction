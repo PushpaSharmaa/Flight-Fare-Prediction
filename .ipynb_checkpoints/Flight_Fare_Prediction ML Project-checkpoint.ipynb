{
 "cells": [
  {
   "cell_type": "markdown",
   "id": "72239f56",
   "metadata": {},
   "source": [
    "# Predicting Airlines Ticket Price using Machine Learning"
   ]
  },
  {
   "cell_type": "code",
   "execution_count": 2,
   "id": "4fad328d",
   "metadata": {},
   "outputs": [],
   "source": [
    "#import all necessary libraries\n",
    "\n",
    "import numpy as np\n",
    "import pandas as pd\n",
    "import matplotlib.pyplot as plt\n",
    "import seaborn as sns"
   ]
  },
  {
   "cell_type": "code",
   "execution_count": 3,
   "id": "da0008ec",
   "metadata": {},
   "outputs": [],
   "source": [
    "#import data\n",
    "\n",
    "train_data = pd.read_excel('Data_Train.xlsx')"
   ]
  },
  {
   "cell_type": "code",
   "execution_count": 4,
   "id": "5554ad1c",
   "metadata": {},
   "outputs": [
    {
     "data": {
      "text/html": [
       "<div>\n",
       "<style scoped>\n",
       "    .dataframe tbody tr th:only-of-type {\n",
       "        vertical-align: middle;\n",
       "    }\n",
       "\n",
       "    .dataframe tbody tr th {\n",
       "        vertical-align: top;\n",
       "    }\n",
       "\n",
       "    .dataframe thead th {\n",
       "        text-align: right;\n",
       "    }\n",
       "</style>\n",
       "<table border=\"1\" class=\"dataframe\">\n",
       "  <thead>\n",
       "    <tr style=\"text-align: right;\">\n",
       "      <th></th>\n",
       "      <th>Airline</th>\n",
       "      <th>Date_of_Journey</th>\n",
       "      <th>Source</th>\n",
       "      <th>Destination</th>\n",
       "      <th>Route</th>\n",
       "      <th>Dep_Time</th>\n",
       "      <th>Arrival_Time</th>\n",
       "      <th>Duration</th>\n",
       "      <th>Total_Stops</th>\n",
       "      <th>Additional_Info</th>\n",
       "      <th>Price</th>\n",
       "    </tr>\n",
       "  </thead>\n",
       "  <tbody>\n",
       "    <tr>\n",
       "      <th>0</th>\n",
       "      <td>IndiGo</td>\n",
       "      <td>24/03/2019</td>\n",
       "      <td>Banglore</td>\n",
       "      <td>New Delhi</td>\n",
       "      <td>BLR → DEL</td>\n",
       "      <td>22:20</td>\n",
       "      <td>01:10 22 Mar</td>\n",
       "      <td>2h 50m</td>\n",
       "      <td>non-stop</td>\n",
       "      <td>No info</td>\n",
       "      <td>3897</td>\n",
       "    </tr>\n",
       "    <tr>\n",
       "      <th>1</th>\n",
       "      <td>Air India</td>\n",
       "      <td>1/05/2019</td>\n",
       "      <td>Kolkata</td>\n",
       "      <td>Banglore</td>\n",
       "      <td>CCU → IXR → BBI → BLR</td>\n",
       "      <td>05:50</td>\n",
       "      <td>13:15</td>\n",
       "      <td>7h 25m</td>\n",
       "      <td>2 stops</td>\n",
       "      <td>No info</td>\n",
       "      <td>7662</td>\n",
       "    </tr>\n",
       "    <tr>\n",
       "      <th>2</th>\n",
       "      <td>Jet Airways</td>\n",
       "      <td>9/06/2019</td>\n",
       "      <td>Delhi</td>\n",
       "      <td>Cochin</td>\n",
       "      <td>DEL → LKO → BOM → COK</td>\n",
       "      <td>09:25</td>\n",
       "      <td>04:25 10 Jun</td>\n",
       "      <td>19h</td>\n",
       "      <td>2 stops</td>\n",
       "      <td>No info</td>\n",
       "      <td>13882</td>\n",
       "    </tr>\n",
       "    <tr>\n",
       "      <th>3</th>\n",
       "      <td>IndiGo</td>\n",
       "      <td>12/05/2019</td>\n",
       "      <td>Kolkata</td>\n",
       "      <td>Banglore</td>\n",
       "      <td>CCU → NAG → BLR</td>\n",
       "      <td>18:05</td>\n",
       "      <td>23:30</td>\n",
       "      <td>5h 25m</td>\n",
       "      <td>1 stop</td>\n",
       "      <td>No info</td>\n",
       "      <td>6218</td>\n",
       "    </tr>\n",
       "    <tr>\n",
       "      <th>4</th>\n",
       "      <td>IndiGo</td>\n",
       "      <td>01/03/2019</td>\n",
       "      <td>Banglore</td>\n",
       "      <td>New Delhi</td>\n",
       "      <td>BLR → NAG → DEL</td>\n",
       "      <td>16:50</td>\n",
       "      <td>21:35</td>\n",
       "      <td>4h 45m</td>\n",
       "      <td>1 stop</td>\n",
       "      <td>No info</td>\n",
       "      <td>13302</td>\n",
       "    </tr>\n",
       "  </tbody>\n",
       "</table>\n",
       "</div>"
      ],
      "text/plain": [
       "       Airline Date_of_Journey    Source Destination                  Route  \\\n",
       "0       IndiGo      24/03/2019  Banglore   New Delhi              BLR → DEL   \n",
       "1    Air India       1/05/2019   Kolkata    Banglore  CCU → IXR → BBI → BLR   \n",
       "2  Jet Airways       9/06/2019     Delhi      Cochin  DEL → LKO → BOM → COK   \n",
       "3       IndiGo      12/05/2019   Kolkata    Banglore        CCU → NAG → BLR   \n",
       "4       IndiGo      01/03/2019  Banglore   New Delhi        BLR → NAG → DEL   \n",
       "\n",
       "  Dep_Time  Arrival_Time Duration Total_Stops Additional_Info  Price  \n",
       "0    22:20  01:10 22 Mar   2h 50m    non-stop         No info   3897  \n",
       "1    05:50         13:15   7h 25m     2 stops         No info   7662  \n",
       "2    09:25  04:25 10 Jun      19h     2 stops         No info  13882  \n",
       "3    18:05         23:30   5h 25m      1 stop         No info   6218  \n",
       "4    16:50         21:35   4h 45m      1 stop         No info  13302  "
      ]
     },
     "execution_count": 4,
     "metadata": {},
     "output_type": "execute_result"
    }
   ],
   "source": [
    "train_data.head()"
   ]
  },
  {
   "cell_type": "code",
   "execution_count": 5,
   "id": "181a32a5",
   "metadata": {},
   "outputs": [
    {
     "name": "stdout",
     "output_type": "stream",
     "text": [
      "<class 'pandas.core.frame.DataFrame'>\n",
      "RangeIndex: 10683 entries, 0 to 10682\n",
      "Data columns (total 11 columns):\n",
      " #   Column           Non-Null Count  Dtype \n",
      "---  ------           --------------  ----- \n",
      " 0   Airline          10683 non-null  object\n",
      " 1   Date_of_Journey  10683 non-null  object\n",
      " 2   Source           10683 non-null  object\n",
      " 3   Destination      10683 non-null  object\n",
      " 4   Route            10682 non-null  object\n",
      " 5   Dep_Time         10683 non-null  object\n",
      " 6   Arrival_Time     10683 non-null  object\n",
      " 7   Duration         10683 non-null  object\n",
      " 8   Total_Stops      10682 non-null  object\n",
      " 9   Additional_Info  10683 non-null  object\n",
      " 10  Price            10683 non-null  int64 \n",
      "dtypes: int64(1), object(10)\n",
      "memory usage: 918.2+ KB\n"
     ]
    }
   ],
   "source": [
    "train_data.info()"
   ]
  },
  {
   "cell_type": "code",
   "execution_count": 6,
   "id": "51b7b54e",
   "metadata": {},
   "outputs": [
    {
     "data": {
      "text/html": [
       "<div>\n",
       "<style scoped>\n",
       "    .dataframe tbody tr th:only-of-type {\n",
       "        vertical-align: middle;\n",
       "    }\n",
       "\n",
       "    .dataframe tbody tr th {\n",
       "        vertical-align: top;\n",
       "    }\n",
       "\n",
       "    .dataframe thead th {\n",
       "        text-align: right;\n",
       "    }\n",
       "</style>\n",
       "<table border=\"1\" class=\"dataframe\">\n",
       "  <thead>\n",
       "    <tr style=\"text-align: right;\">\n",
       "      <th></th>\n",
       "      <th>Price</th>\n",
       "    </tr>\n",
       "  </thead>\n",
       "  <tbody>\n",
       "    <tr>\n",
       "      <th>count</th>\n",
       "      <td>10683.000000</td>\n",
       "    </tr>\n",
       "    <tr>\n",
       "      <th>mean</th>\n",
       "      <td>9087.064121</td>\n",
       "    </tr>\n",
       "    <tr>\n",
       "      <th>std</th>\n",
       "      <td>4611.359167</td>\n",
       "    </tr>\n",
       "    <tr>\n",
       "      <th>min</th>\n",
       "      <td>1759.000000</td>\n",
       "    </tr>\n",
       "    <tr>\n",
       "      <th>25%</th>\n",
       "      <td>5277.000000</td>\n",
       "    </tr>\n",
       "    <tr>\n",
       "      <th>50%</th>\n",
       "      <td>8372.000000</td>\n",
       "    </tr>\n",
       "    <tr>\n",
       "      <th>75%</th>\n",
       "      <td>12373.000000</td>\n",
       "    </tr>\n",
       "    <tr>\n",
       "      <th>max</th>\n",
       "      <td>79512.000000</td>\n",
       "    </tr>\n",
       "  </tbody>\n",
       "</table>\n",
       "</div>"
      ],
      "text/plain": [
       "              Price\n",
       "count  10683.000000\n",
       "mean    9087.064121\n",
       "std     4611.359167\n",
       "min     1759.000000\n",
       "25%     5277.000000\n",
       "50%     8372.000000\n",
       "75%    12373.000000\n",
       "max    79512.000000"
      ]
     },
     "execution_count": 6,
     "metadata": {},
     "output_type": "execute_result"
    }
   ],
   "source": [
    "train_data.describe()"
   ]
  },
  {
   "cell_type": "markdown",
   "id": "4792b59e",
   "metadata": {},
   "source": [
    "After loading data, we check for null values in rows/columns.\n",
    "\n",
    "If null values are present, then we can do following:\n",
    "\n",
    "    a) filling NaN values with mean, medium, mode using fillna() method\n",
    "    b) if very few missing values are there, we can drop these aas well."
   ]
  },
  {
   "cell_type": "code",
   "execution_count": 7,
   "id": "504405da",
   "metadata": {},
   "outputs": [
    {
     "data": {
      "text/plain": [
       "Airline            0\n",
       "Date_of_Journey    0\n",
       "Source             0\n",
       "Destination        0\n",
       "Route              1\n",
       "Dep_Time           0\n",
       "Arrival_Time       0\n",
       "Duration           0\n",
       "Total_Stops        1\n",
       "Additional_Info    0\n",
       "Price              0\n",
       "dtype: int64"
      ]
     },
     "execution_count": 7,
     "metadata": {},
     "output_type": "execute_result"
    }
   ],
   "source": [
    "train_data.isnull().sum()"
   ]
  },
  {
   "cell_type": "code",
   "execution_count": 8,
   "id": "ca5efa3d",
   "metadata": {},
   "outputs": [
    {
     "data": {
      "text/plain": [
       "(10683, 11)"
      ]
     },
     "execution_count": 8,
     "metadata": {},
     "output_type": "execute_result"
    }
   ],
   "source": [
    "train_data.shape"
   ]
  },
  {
   "cell_type": "code",
   "execution_count": 9,
   "id": "56538bde",
   "metadata": {},
   "outputs": [
    {
     "data": {
      "text/html": [
       "<div>\n",
       "<style scoped>\n",
       "    .dataframe tbody tr th:only-of-type {\n",
       "        vertical-align: middle;\n",
       "    }\n",
       "\n",
       "    .dataframe tbody tr th {\n",
       "        vertical-align: top;\n",
       "    }\n",
       "\n",
       "    .dataframe thead th {\n",
       "        text-align: right;\n",
       "    }\n",
       "</style>\n",
       "<table border=\"1\" class=\"dataframe\">\n",
       "  <thead>\n",
       "    <tr style=\"text-align: right;\">\n",
       "      <th></th>\n",
       "      <th>Airline</th>\n",
       "      <th>Date_of_Journey</th>\n",
       "      <th>Source</th>\n",
       "      <th>Destination</th>\n",
       "      <th>Route</th>\n",
       "      <th>Dep_Time</th>\n",
       "      <th>Arrival_Time</th>\n",
       "      <th>Duration</th>\n",
       "      <th>Total_Stops</th>\n",
       "      <th>Additional_Info</th>\n",
       "      <th>Price</th>\n",
       "    </tr>\n",
       "  </thead>\n",
       "  <tbody>\n",
       "    <tr>\n",
       "      <th>9039</th>\n",
       "      <td>Air India</td>\n",
       "      <td>6/05/2019</td>\n",
       "      <td>Delhi</td>\n",
       "      <td>Cochin</td>\n",
       "      <td>NaN</td>\n",
       "      <td>09:45</td>\n",
       "      <td>09:25 07 May</td>\n",
       "      <td>23h 40m</td>\n",
       "      <td>NaN</td>\n",
       "      <td>No info</td>\n",
       "      <td>7480</td>\n",
       "    </tr>\n",
       "  </tbody>\n",
       "</table>\n",
       "</div>"
      ],
      "text/plain": [
       "        Airline Date_of_Journey Source Destination Route Dep_Time  \\\n",
       "9039  Air India       6/05/2019  Delhi      Cochin   NaN    09:45   \n",
       "\n",
       "      Arrival_Time Duration Total_Stops Additional_Info  Price  \n",
       "9039  09:25 07 May  23h 40m         NaN         No info   7480  "
      ]
     },
     "execution_count": 9,
     "metadata": {},
     "output_type": "execute_result"
    }
   ],
   "source": [
    "train_data[train_data['Route'].isnull()]"
   ]
  },
  {
   "cell_type": "raw",
   "id": "d953d03c",
   "metadata": {},
   "source": []
  },
  {
   "cell_type": "markdown",
   "id": "1c54c40e",
   "metadata": {},
   "source": [
    "As we can see, only 1 missing value is there, hence we can drop it."
   ]
  },
  {
   "cell_type": "code",
   "execution_count": 10,
   "id": "d0c7726f",
   "metadata": {},
   "outputs": [],
   "source": [
    "train_data.dropna(inplace=True)"
   ]
  },
  {
   "cell_type": "code",
   "execution_count": 11,
   "id": "bf7dcbc0",
   "metadata": {},
   "outputs": [
    {
     "data": {
      "text/plain": [
       "Airline            0\n",
       "Date_of_Journey    0\n",
       "Source             0\n",
       "Destination        0\n",
       "Route              0\n",
       "Dep_Time           0\n",
       "Arrival_Time       0\n",
       "Duration           0\n",
       "Total_Stops        0\n",
       "Additional_Info    0\n",
       "Price              0\n",
       "dtype: int64"
      ]
     },
     "execution_count": 11,
     "metadata": {},
     "output_type": "execute_result"
    }
   ],
   "source": [
    "train_data.isnull().sum()"
   ]
  },
  {
   "cell_type": "code",
   "execution_count": null,
   "id": "3d610d1f",
   "metadata": {},
   "outputs": [],
   "source": []
  },
  {
   "cell_type": "code",
   "execution_count": null,
   "id": "e6ff8b63",
   "metadata": {},
   "outputs": [],
   "source": []
  },
  {
   "cell_type": "markdown",
   "id": "e500a9ca",
   "metadata": {},
   "source": [
    "### Pre-processing and featurizing 'Date_of_Journey'"
   ]
  },
  {
   "cell_type": "markdown",
   "id": "3e25a3ea",
   "metadata": {},
   "source": [
    "i.e. pre-process it and extract date, month, year from 'Date_of_Journey' feature"
   ]
  },
  {
   "cell_type": "code",
   "execution_count": 12,
   "id": "0dfa727a",
   "metadata": {},
   "outputs": [],
   "source": [
    "data = train_data.copy()"
   ]
  },
  {
   "cell_type": "code",
   "execution_count": 13,
   "id": "a0883354",
   "metadata": {},
   "outputs": [
    {
     "data": {
      "text/html": [
       "<div>\n",
       "<style scoped>\n",
       "    .dataframe tbody tr th:only-of-type {\n",
       "        vertical-align: middle;\n",
       "    }\n",
       "\n",
       "    .dataframe tbody tr th {\n",
       "        vertical-align: top;\n",
       "    }\n",
       "\n",
       "    .dataframe thead th {\n",
       "        text-align: right;\n",
       "    }\n",
       "</style>\n",
       "<table border=\"1\" class=\"dataframe\">\n",
       "  <thead>\n",
       "    <tr style=\"text-align: right;\">\n",
       "      <th></th>\n",
       "      <th>Airline</th>\n",
       "      <th>Date_of_Journey</th>\n",
       "      <th>Source</th>\n",
       "      <th>Destination</th>\n",
       "      <th>Route</th>\n",
       "      <th>Dep_Time</th>\n",
       "      <th>Arrival_Time</th>\n",
       "      <th>Duration</th>\n",
       "      <th>Total_Stops</th>\n",
       "      <th>Additional_Info</th>\n",
       "      <th>Price</th>\n",
       "    </tr>\n",
       "  </thead>\n",
       "  <tbody>\n",
       "    <tr>\n",
       "      <th>0</th>\n",
       "      <td>IndiGo</td>\n",
       "      <td>24/03/2019</td>\n",
       "      <td>Banglore</td>\n",
       "      <td>New Delhi</td>\n",
       "      <td>BLR → DEL</td>\n",
       "      <td>22:20</td>\n",
       "      <td>01:10 22 Mar</td>\n",
       "      <td>2h 50m</td>\n",
       "      <td>non-stop</td>\n",
       "      <td>No info</td>\n",
       "      <td>3897</td>\n",
       "    </tr>\n",
       "    <tr>\n",
       "      <th>1</th>\n",
       "      <td>Air India</td>\n",
       "      <td>1/05/2019</td>\n",
       "      <td>Kolkata</td>\n",
       "      <td>Banglore</td>\n",
       "      <td>CCU → IXR → BBI → BLR</td>\n",
       "      <td>05:50</td>\n",
       "      <td>13:15</td>\n",
       "      <td>7h 25m</td>\n",
       "      <td>2 stops</td>\n",
       "      <td>No info</td>\n",
       "      <td>7662</td>\n",
       "    </tr>\n",
       "  </tbody>\n",
       "</table>\n",
       "</div>"
      ],
      "text/plain": [
       "     Airline Date_of_Journey    Source Destination                  Route  \\\n",
       "0     IndiGo      24/03/2019  Banglore   New Delhi              BLR → DEL   \n",
       "1  Air India       1/05/2019   Kolkata    Banglore  CCU → IXR → BBI → BLR   \n",
       "\n",
       "  Dep_Time  Arrival_Time Duration Total_Stops Additional_Info  Price  \n",
       "0    22:20  01:10 22 Mar   2h 50m    non-stop         No info   3897  \n",
       "1    05:50         13:15   7h 25m     2 stops         No info   7662  "
      ]
     },
     "execution_count": 13,
     "metadata": {},
     "output_type": "execute_result"
    }
   ],
   "source": [
    "data.head(2)"
   ]
  },
  {
   "cell_type": "code",
   "execution_count": 14,
   "id": "29f434ef",
   "metadata": {},
   "outputs": [
    {
     "data": {
      "text/plain": [
       "Airline            object\n",
       "Date_of_Journey    object\n",
       "Source             object\n",
       "Destination        object\n",
       "Route              object\n",
       "Dep_Time           object\n",
       "Arrival_Time       object\n",
       "Duration           object\n",
       "Total_Stops        object\n",
       "Additional_Info    object\n",
       "Price               int64\n",
       "dtype: object"
      ]
     },
     "execution_count": 14,
     "metadata": {},
     "output_type": "execute_result"
    }
   ],
   "source": [
    "data.dtypes"
   ]
  },
  {
   "cell_type": "markdown",
   "id": "549df6cc",
   "metadata": {},
   "source": [
    "We can see 'Date_of_Journey' feature is of object type, we need to convert it into timestamp because our model will not be able to understand string literal, so let's convert it into timestamp.\n",
    "\n",
    "To do this we require pandas to_datetime to convert object data type to datetime dtype. "
   ]
  },
  {
   "cell_type": "code",
   "execution_count": 15,
   "id": "70beb3b0",
   "metadata": {},
   "outputs": [],
   "source": [
    "def change_into_datetime(col):\n",
    "    data[col] = pd.to_datetime(data[col])"
   ]
  },
  {
   "cell_type": "code",
   "execution_count": 16,
   "id": "8f67cedc",
   "metadata": {},
   "outputs": [],
   "source": [
    "n = ['Date_of_Journey', 'Dep_Time', 'Arrival_Time']\n",
    "result = map(change_into_datetime, n)"
   ]
  },
  {
   "cell_type": "code",
   "execution_count": 17,
   "id": "3d0f7da8",
   "metadata": {},
   "outputs": [],
   "source": [
    "for feature in ['Date_of_Journey', 'Dep_Time', 'Arrival_Time']:\n",
    "    change_into_datetime(feature)"
   ]
  },
  {
   "cell_type": "code",
   "execution_count": 18,
   "id": "ae53fb1a",
   "metadata": {},
   "outputs": [
    {
     "data": {
      "text/plain": [
       "Airline                    object\n",
       "Date_of_Journey    datetime64[ns]\n",
       "Source                     object\n",
       "Destination                object\n",
       "Route                      object\n",
       "Dep_Time           datetime64[ns]\n",
       "Arrival_Time       datetime64[ns]\n",
       "Duration                   object\n",
       "Total_Stops                object\n",
       "Additional_Info            object\n",
       "Price                       int64\n",
       "dtype: object"
      ]
     },
     "execution_count": 18,
     "metadata": {},
     "output_type": "execute_result"
    }
   ],
   "source": [
    "data.dtypes"
   ]
  },
  {
   "cell_type": "code",
   "execution_count": 19,
   "id": "494a60df",
   "metadata": {},
   "outputs": [
    {
     "data": {
      "text/html": [
       "<div>\n",
       "<style scoped>\n",
       "    .dataframe tbody tr th:only-of-type {\n",
       "        vertical-align: middle;\n",
       "    }\n",
       "\n",
       "    .dataframe tbody tr th {\n",
       "        vertical-align: top;\n",
       "    }\n",
       "\n",
       "    .dataframe thead th {\n",
       "        text-align: right;\n",
       "    }\n",
       "</style>\n",
       "<table border=\"1\" class=\"dataframe\">\n",
       "  <thead>\n",
       "    <tr style=\"text-align: right;\">\n",
       "      <th></th>\n",
       "      <th>Airline</th>\n",
       "      <th>Date_of_Journey</th>\n",
       "      <th>Source</th>\n",
       "      <th>Destination</th>\n",
       "      <th>Route</th>\n",
       "      <th>Dep_Time</th>\n",
       "      <th>Arrival_Time</th>\n",
       "      <th>Duration</th>\n",
       "      <th>Total_Stops</th>\n",
       "      <th>Additional_Info</th>\n",
       "      <th>Price</th>\n",
       "    </tr>\n",
       "  </thead>\n",
       "  <tbody>\n",
       "    <tr>\n",
       "      <th>0</th>\n",
       "      <td>IndiGo</td>\n",
       "      <td>2019-03-24</td>\n",
       "      <td>Banglore</td>\n",
       "      <td>New Delhi</td>\n",
       "      <td>BLR → DEL</td>\n",
       "      <td>2022-09-20 22:20:00</td>\n",
       "      <td>2022-03-22 01:10:00</td>\n",
       "      <td>2h 50m</td>\n",
       "      <td>non-stop</td>\n",
       "      <td>No info</td>\n",
       "      <td>3897</td>\n",
       "    </tr>\n",
       "    <tr>\n",
       "      <th>1</th>\n",
       "      <td>Air India</td>\n",
       "      <td>2019-01-05</td>\n",
       "      <td>Kolkata</td>\n",
       "      <td>Banglore</td>\n",
       "      <td>CCU → IXR → BBI → BLR</td>\n",
       "      <td>2022-09-20 05:50:00</td>\n",
       "      <td>2022-09-20 13:15:00</td>\n",
       "      <td>7h 25m</td>\n",
       "      <td>2 stops</td>\n",
       "      <td>No info</td>\n",
       "      <td>7662</td>\n",
       "    </tr>\n",
       "  </tbody>\n",
       "</table>\n",
       "</div>"
      ],
      "text/plain": [
       "     Airline Date_of_Journey    Source Destination                  Route  \\\n",
       "0     IndiGo      2019-03-24  Banglore   New Delhi              BLR → DEL   \n",
       "1  Air India      2019-01-05   Kolkata    Banglore  CCU → IXR → BBI → BLR   \n",
       "\n",
       "             Dep_Time        Arrival_Time Duration Total_Stops  \\\n",
       "0 2022-09-20 22:20:00 2022-03-22 01:10:00   2h 50m    non-stop   \n",
       "1 2022-09-20 05:50:00 2022-09-20 13:15:00   7h 25m     2 stops   \n",
       "\n",
       "  Additional_Info  Price  \n",
       "0         No info   3897  \n",
       "1         No info   7662  "
      ]
     },
     "execution_count": 19,
     "metadata": {},
     "output_type": "execute_result"
    }
   ],
   "source": [
    "data.head(2)"
   ]
  },
  {
   "cell_type": "code",
   "execution_count": 20,
   "id": "49285450",
   "metadata": {},
   "outputs": [
    {
     "data": {
      "text/plain": [
       "Timestamp('2019-01-03 00:00:00')"
      ]
     },
     "execution_count": 20,
     "metadata": {},
     "output_type": "execute_result"
    }
   ],
   "source": [
    "data['Date_of_Journey'].min()"
   ]
  },
  {
   "cell_type": "code",
   "execution_count": 21,
   "id": "89580f61",
   "metadata": {},
   "outputs": [
    {
     "data": {
      "text/plain": [
       "Timestamp('2019-12-06 00:00:00')"
      ]
     },
     "execution_count": 21,
     "metadata": {},
     "output_type": "execute_result"
    }
   ],
   "source": [
    "data['Date_of_Journey'].max()"
   ]
  },
  {
   "cell_type": "markdown",
   "id": "7ac3a613",
   "metadata": {},
   "source": [
    "We observed that the given data belongs to year 2019 only, hence extracting year feature and using it as an input to our\n",
    "machine learning model makes no sense.\n",
    "\n",
    "But if the dataset includes more than one year, then it may impact."
   ]
  },
  {
   "cell_type": "code",
   "execution_count": null,
   "id": "511bf8ce",
   "metadata": {},
   "outputs": [],
   "source": []
  },
  {
   "cell_type": "code",
   "execution_count": null,
   "id": "b552e5d2",
   "metadata": {},
   "outputs": [],
   "source": []
  },
  {
   "cell_type": "markdown",
   "id": "626c9e53",
   "metadata": {},
   "source": [
    "### Feature Engineering of \"Date_of_Journey\" and extracting day, month, year features"
   ]
  },
  {
   "cell_type": "code",
   "execution_count": 22,
   "id": "b7714fa0",
   "metadata": {},
   "outputs": [],
   "source": [
    "#define a fuction to extract day, month,year\n",
    "\n",
    "def extract_day_month_year(col):\n",
    "    data['Journey_day'] = data[col].dt.day\n",
    "    data['Journey_month'] = data[col].dt.month\n",
    "    data['Journey_year'] = data[col].dt.year"
   ]
  },
  {
   "cell_type": "code",
   "execution_count": 23,
   "id": "26866b5f",
   "metadata": {},
   "outputs": [],
   "source": [
    "extract_day_month_year('Date_of_Journey')"
   ]
  },
  {
   "cell_type": "code",
   "execution_count": 24,
   "id": "1389d88f",
   "metadata": {},
   "outputs": [
    {
     "data": {
      "text/html": [
       "<div>\n",
       "<style scoped>\n",
       "    .dataframe tbody tr th:only-of-type {\n",
       "        vertical-align: middle;\n",
       "    }\n",
       "\n",
       "    .dataframe tbody tr th {\n",
       "        vertical-align: top;\n",
       "    }\n",
       "\n",
       "    .dataframe thead th {\n",
       "        text-align: right;\n",
       "    }\n",
       "</style>\n",
       "<table border=\"1\" class=\"dataframe\">\n",
       "  <thead>\n",
       "    <tr style=\"text-align: right;\">\n",
       "      <th></th>\n",
       "      <th>Airline</th>\n",
       "      <th>Date_of_Journey</th>\n",
       "      <th>Source</th>\n",
       "      <th>Destination</th>\n",
       "      <th>Route</th>\n",
       "      <th>Dep_Time</th>\n",
       "      <th>Arrival_Time</th>\n",
       "      <th>Duration</th>\n",
       "      <th>Total_Stops</th>\n",
       "      <th>Additional_Info</th>\n",
       "      <th>Price</th>\n",
       "      <th>Journey_day</th>\n",
       "      <th>Journey_month</th>\n",
       "      <th>Journey_year</th>\n",
       "    </tr>\n",
       "  </thead>\n",
       "  <tbody>\n",
       "    <tr>\n",
       "      <th>0</th>\n",
       "      <td>IndiGo</td>\n",
       "      <td>2019-03-24</td>\n",
       "      <td>Banglore</td>\n",
       "      <td>New Delhi</td>\n",
       "      <td>BLR → DEL</td>\n",
       "      <td>2022-09-20 22:20:00</td>\n",
       "      <td>2022-03-22 01:10:00</td>\n",
       "      <td>2h 50m</td>\n",
       "      <td>non-stop</td>\n",
       "      <td>No info</td>\n",
       "      <td>3897</td>\n",
       "      <td>24</td>\n",
       "      <td>3</td>\n",
       "      <td>2019</td>\n",
       "    </tr>\n",
       "    <tr>\n",
       "      <th>1</th>\n",
       "      <td>Air India</td>\n",
       "      <td>2019-01-05</td>\n",
       "      <td>Kolkata</td>\n",
       "      <td>Banglore</td>\n",
       "      <td>CCU → IXR → BBI → BLR</td>\n",
       "      <td>2022-09-20 05:50:00</td>\n",
       "      <td>2022-09-20 13:15:00</td>\n",
       "      <td>7h 25m</td>\n",
       "      <td>2 stops</td>\n",
       "      <td>No info</td>\n",
       "      <td>7662</td>\n",
       "      <td>5</td>\n",
       "      <td>1</td>\n",
       "      <td>2019</td>\n",
       "    </tr>\n",
       "  </tbody>\n",
       "</table>\n",
       "</div>"
      ],
      "text/plain": [
       "     Airline Date_of_Journey    Source Destination                  Route  \\\n",
       "0     IndiGo      2019-03-24  Banglore   New Delhi              BLR → DEL   \n",
       "1  Air India      2019-01-05   Kolkata    Banglore  CCU → IXR → BBI → BLR   \n",
       "\n",
       "             Dep_Time        Arrival_Time Duration Total_Stops  \\\n",
       "0 2022-09-20 22:20:00 2022-03-22 01:10:00   2h 50m    non-stop   \n",
       "1 2022-09-20 05:50:00 2022-09-20 13:15:00   7h 25m     2 stops   \n",
       "\n",
       "  Additional_Info  Price  Journey_day  Journey_month  Journey_year  \n",
       "0         No info   3897           24              3          2019  \n",
       "1         No info   7662            5              1          2019  "
      ]
     },
     "execution_count": 24,
     "metadata": {},
     "output_type": "execute_result"
    }
   ],
   "source": [
    "data.head(2)"
   ]
  },
  {
   "cell_type": "code",
   "execution_count": 25,
   "id": "035280ba",
   "metadata": {},
   "outputs": [],
   "source": [
    "data.drop('Date_of_Journey', axis=1, inplace=True)"
   ]
  },
  {
   "cell_type": "code",
   "execution_count": 26,
   "id": "31e052b7",
   "metadata": {},
   "outputs": [
    {
     "data": {
      "text/html": [
       "<div>\n",
       "<style scoped>\n",
       "    .dataframe tbody tr th:only-of-type {\n",
       "        vertical-align: middle;\n",
       "    }\n",
       "\n",
       "    .dataframe tbody tr th {\n",
       "        vertical-align: top;\n",
       "    }\n",
       "\n",
       "    .dataframe thead th {\n",
       "        text-align: right;\n",
       "    }\n",
       "</style>\n",
       "<table border=\"1\" class=\"dataframe\">\n",
       "  <thead>\n",
       "    <tr style=\"text-align: right;\">\n",
       "      <th></th>\n",
       "      <th>Airline</th>\n",
       "      <th>Source</th>\n",
       "      <th>Destination</th>\n",
       "      <th>Route</th>\n",
       "      <th>Dep_Time</th>\n",
       "      <th>Arrival_Time</th>\n",
       "      <th>Duration</th>\n",
       "      <th>Total_Stops</th>\n",
       "      <th>Additional_Info</th>\n",
       "      <th>Price</th>\n",
       "      <th>Journey_day</th>\n",
       "      <th>Journey_month</th>\n",
       "      <th>Journey_year</th>\n",
       "    </tr>\n",
       "  </thead>\n",
       "  <tbody>\n",
       "    <tr>\n",
       "      <th>0</th>\n",
       "      <td>IndiGo</td>\n",
       "      <td>Banglore</td>\n",
       "      <td>New Delhi</td>\n",
       "      <td>BLR → DEL</td>\n",
       "      <td>2022-09-20 22:20:00</td>\n",
       "      <td>2022-03-22 01:10:00</td>\n",
       "      <td>2h 50m</td>\n",
       "      <td>non-stop</td>\n",
       "      <td>No info</td>\n",
       "      <td>3897</td>\n",
       "      <td>24</td>\n",
       "      <td>3</td>\n",
       "      <td>2019</td>\n",
       "    </tr>\n",
       "    <tr>\n",
       "      <th>1</th>\n",
       "      <td>Air India</td>\n",
       "      <td>Kolkata</td>\n",
       "      <td>Banglore</td>\n",
       "      <td>CCU → IXR → BBI → BLR</td>\n",
       "      <td>2022-09-20 05:50:00</td>\n",
       "      <td>2022-09-20 13:15:00</td>\n",
       "      <td>7h 25m</td>\n",
       "      <td>2 stops</td>\n",
       "      <td>No info</td>\n",
       "      <td>7662</td>\n",
       "      <td>5</td>\n",
       "      <td>1</td>\n",
       "      <td>2019</td>\n",
       "    </tr>\n",
       "  </tbody>\n",
       "</table>\n",
       "</div>"
      ],
      "text/plain": [
       "     Airline    Source Destination                  Route            Dep_Time  \\\n",
       "0     IndiGo  Banglore   New Delhi              BLR → DEL 2022-09-20 22:20:00   \n",
       "1  Air India   Kolkata    Banglore  CCU → IXR → BBI → BLR 2022-09-20 05:50:00   \n",
       "\n",
       "         Arrival_Time Duration Total_Stops Additional_Info  Price  \\\n",
       "0 2022-03-22 01:10:00   2h 50m    non-stop         No info   3897   \n",
       "1 2022-09-20 13:15:00   7h 25m     2 stops         No info   7662   \n",
       "\n",
       "   Journey_day  Journey_month  Journey_year  \n",
       "0           24              3          2019  \n",
       "1            5              1          2019  "
      ]
     },
     "execution_count": 26,
     "metadata": {},
     "output_type": "execute_result"
    }
   ],
   "source": [
    "data.head(2)"
   ]
  },
  {
   "cell_type": "code",
   "execution_count": null,
   "id": "2f645728",
   "metadata": {},
   "outputs": [],
   "source": []
  },
  {
   "cell_type": "code",
   "execution_count": null,
   "id": "bcfc2b6c",
   "metadata": {},
   "outputs": [],
   "source": []
  },
  {
   "cell_type": "markdown",
   "id": "c8fd7d7f",
   "metadata": {},
   "source": [
    "### Let's clean and featurize 'Dep_Time' and 'Arrival_Time'"
   ]
  },
  {
   "cell_type": "code",
   "execution_count": 27,
   "id": "80d39cbb",
   "metadata": {},
   "outputs": [],
   "source": [
    "# define a function to extract hour and minute\n",
    "\n",
    "def extract_hour_minute(col):\n",
    "    data[col+'_hour'] = data[col].dt.hour\n",
    "    data[col+'_minute'] = data[col].dt.minute\n",
    "    data.drop(col, axis=1, inplace=True)  #droppping columns "
   ]
  },
  {
   "cell_type": "code",
   "execution_count": 28,
   "id": "1d7eb291",
   "metadata": {},
   "outputs": [],
   "source": [
    "for feature in ['Dep_Time', 'Arrival_Time']:\n",
    "    extract_hour_minute(feature)"
   ]
  },
  {
   "cell_type": "code",
   "execution_count": 29,
   "id": "66fdaa78",
   "metadata": {
    "scrolled": true
   },
   "outputs": [
    {
     "data": {
      "text/html": [
       "<div>\n",
       "<style scoped>\n",
       "    .dataframe tbody tr th:only-of-type {\n",
       "        vertical-align: middle;\n",
       "    }\n",
       "\n",
       "    .dataframe tbody tr th {\n",
       "        vertical-align: top;\n",
       "    }\n",
       "\n",
       "    .dataframe thead th {\n",
       "        text-align: right;\n",
       "    }\n",
       "</style>\n",
       "<table border=\"1\" class=\"dataframe\">\n",
       "  <thead>\n",
       "    <tr style=\"text-align: right;\">\n",
       "      <th></th>\n",
       "      <th>Airline</th>\n",
       "      <th>Source</th>\n",
       "      <th>Destination</th>\n",
       "      <th>Route</th>\n",
       "      <th>Duration</th>\n",
       "      <th>Total_Stops</th>\n",
       "      <th>Additional_Info</th>\n",
       "      <th>Price</th>\n",
       "      <th>Journey_day</th>\n",
       "      <th>Journey_month</th>\n",
       "      <th>Journey_year</th>\n",
       "      <th>Dep_Time_hour</th>\n",
       "      <th>Dep_Time_minute</th>\n",
       "      <th>Arrival_Time_hour</th>\n",
       "      <th>Arrival_Time_minute</th>\n",
       "    </tr>\n",
       "  </thead>\n",
       "  <tbody>\n",
       "    <tr>\n",
       "      <th>0</th>\n",
       "      <td>IndiGo</td>\n",
       "      <td>Banglore</td>\n",
       "      <td>New Delhi</td>\n",
       "      <td>BLR → DEL</td>\n",
       "      <td>2h 50m</td>\n",
       "      <td>non-stop</td>\n",
       "      <td>No info</td>\n",
       "      <td>3897</td>\n",
       "      <td>24</td>\n",
       "      <td>3</td>\n",
       "      <td>2019</td>\n",
       "      <td>22</td>\n",
       "      <td>20</td>\n",
       "      <td>1</td>\n",
       "      <td>10</td>\n",
       "    </tr>\n",
       "    <tr>\n",
       "      <th>1</th>\n",
       "      <td>Air India</td>\n",
       "      <td>Kolkata</td>\n",
       "      <td>Banglore</td>\n",
       "      <td>CCU → IXR → BBI → BLR</td>\n",
       "      <td>7h 25m</td>\n",
       "      <td>2 stops</td>\n",
       "      <td>No info</td>\n",
       "      <td>7662</td>\n",
       "      <td>5</td>\n",
       "      <td>1</td>\n",
       "      <td>2019</td>\n",
       "      <td>5</td>\n",
       "      <td>50</td>\n",
       "      <td>13</td>\n",
       "      <td>15</td>\n",
       "    </tr>\n",
       "  </tbody>\n",
       "</table>\n",
       "</div>"
      ],
      "text/plain": [
       "     Airline    Source Destination                  Route Duration  \\\n",
       "0     IndiGo  Banglore   New Delhi              BLR → DEL   2h 50m   \n",
       "1  Air India   Kolkata    Banglore  CCU → IXR → BBI → BLR   7h 25m   \n",
       "\n",
       "  Total_Stops Additional_Info  Price  Journey_day  Journey_month  \\\n",
       "0    non-stop         No info   3897           24              3   \n",
       "1     2 stops         No info   7662            5              1   \n",
       "\n",
       "   Journey_year  Dep_Time_hour  Dep_Time_minute  Arrival_Time_hour  \\\n",
       "0          2019             22               20                  1   \n",
       "1          2019              5               50                 13   \n",
       "\n",
       "   Arrival_Time_minute  \n",
       "0                   10  \n",
       "1                   15  "
      ]
     },
     "execution_count": 29,
     "metadata": {},
     "output_type": "execute_result"
    }
   ],
   "source": [
    "data.head(2)"
   ]
  },
  {
   "cell_type": "code",
   "execution_count": null,
   "id": "fe7cf480",
   "metadata": {},
   "outputs": [],
   "source": []
  },
  {
   "cell_type": "code",
   "execution_count": null,
   "id": "29e08491",
   "metadata": {},
   "outputs": [],
   "source": []
  },
  {
   "cell_type": "markdown",
   "id": "80ad4ca3",
   "metadata": {},
   "source": [
    "### Analyzing when most flights will take off"
   ]
  },
  {
   "cell_type": "code",
   "execution_count": 30,
   "id": "aab0be8c",
   "metadata": {},
   "outputs": [],
   "source": [
    "#let's define a function to convert the flight Dep_Time into mid_night, morning, afternoon and evening time\n",
    "\n",
    "def flight_dep_time(x):\n",
    "    \n",
    "    if (x>4) and (x<=8):\n",
    "        return \"Early morning\"\n",
    "    \n",
    "    elif (x>8) and (x<=12):\n",
    "        return \"Morning\"\n",
    "    \n",
    "    if (x>12) and (x<=16):\n",
    "        return \"Noon\"\n",
    "    \n",
    "    if (x>16) and (x<=20):\n",
    "        return \"Evening\"\n",
    "    \n",
    "    if (x>20) and (x<=24):\n",
    "        return \"Night\"\n",
    "    \n",
    "    else:\n",
    "        return \"Late night\"\n",
    "    \n",
    "#This function takes flight departure time and convert into appropriate format"
   ]
  },
  {
   "cell_type": "code",
   "execution_count": 31,
   "id": "99266847",
   "metadata": {},
   "outputs": [
    {
     "data": {
      "text/plain": [
       "<AxesSubplot:>"
      ]
     },
     "execution_count": 31,
     "metadata": {},
     "output_type": "execute_result"
    },
    {
     "data": {
      "image/png": "[encoded data removed]",
      "text/plain": [
       "<Figure size 432x288 with 1 Axes>"
      ]
     },
     "metadata": {
      "needs_background": "light"
     },
     "output_type": "display_data"
    }
   ],
   "source": [
    "data['Dep_Time_hour'].apply(flight_dep_time).value_counts().plot(kind='bar')"
   ]
  },
  {
   "cell_type": "markdown",
   "id": "511d885b",
   "metadata": {},
   "source": [
    "Similarly, we can represent this data on a pie chart or a donut chart"
   ]
  },
  {
   "cell_type": "code",
   "execution_count": 32,
   "id": "ca525c11",
   "metadata": {},
   "outputs": [
    {
     "data": {
      "text/plain": [
       "<AxesSubplot:ylabel='Dep_Time_hour'>"
      ]
     },
     "execution_count": 32,
     "metadata": {},
     "output_type": "execute_result"
    },
    {
     "data": {
      "image/png": "[encoded data removed]",
      "text/plain": [
       "<Figure size 504x504 with 1 Axes>"
      ]
     },
     "metadata": {},
     "output_type": "display_data"
    }
   ],
   "source": [
    "data['Dep_Time_hour'].apply(flight_dep_time).value_counts().plot(kind='pie', figsize=(7,7))"
   ]
  },
  {
   "cell_type": "code",
   "execution_count": 33,
   "id": "619f0be7",
   "metadata": {},
   "outputs": [
    {
     "data": {
      "text/plain": [
       "<matplotlib.patches.Circle at 0x1f3dd723850>"
      ]
     },
     "execution_count": 33,
     "metadata": {},
     "output_type": "execute_result"
    },
    {
     "data": {
      "image/png": "[encoded data removed]",
      "text/plain": [
       "<Figure size 504x504 with 1 Axes>"
      ]
     },
     "metadata": {},
     "output_type": "display_data"
    }
   ],
   "source": [
    "data['Dep_Time_hour'].apply(flight_dep_time).value_counts().plot(kind='pie', figsize=(7,7))\n",
    "\n",
    "centre_circle = plt.Circle((0,0), 0.50, fc='white')\n",
    "fig = plt.gcf()\n",
    "fig.gca().add_artist(centre_circle)"
   ]
  },
  {
   "cell_type": "code",
   "execution_count": null,
   "id": "69155374",
   "metadata": {},
   "outputs": [],
   "source": []
  },
  {
   "cell_type": "code",
   "execution_count": null,
   "id": "8f566992",
   "metadata": {},
   "outputs": [],
   "source": []
  },
  {
   "cell_type": "markdown",
   "id": "eb8baebc",
   "metadata": {},
   "source": [
    "### Using cufflinks and plotly to make our visuals more interactive"
   ]
  },
  {
   "cell_type": "code",
   "execution_count": 34,
   "id": "d2a0d08e",
   "metadata": {},
   "outputs": [],
   "source": [
    "#To download plotly --->  !pip  install plotly\n",
    "#To download plotly --->  !pip install cufflinks"
   ]
  },
  {
   "cell_type": "code",
   "execution_count": 35,
   "id": "dbb405e7",
   "metadata": {},
   "outputs": [],
   "source": [
    "#Now let's use Plotly interactive plots directly with pandas dataframes after setting up.\n",
    "\n",
    "import plotly\n",
    "import cufflinks as cf\n",
    "from cufflinks.offline import go_offline\n",
    "from plotly.offline import download_plotlyjs, init_notebook_mode, plot, iplot"
   ]
  },
  {
   "cell_type": "code",
   "execution_count": 36,
   "id": "30e7ef3b",
   "metadata": {},
   "outputs": [
    {
     "data": {
      "text/html": [
       "        <script type=\"text/javascript\">\n",
       "        window.PlotlyConfig = {MathJaxConfig: 'local'};\n",
       "        if (window.MathJax && window.MathJax.Hub && window.MathJax.Hub.Config) {window.MathJax.Hub.Config({SVG: {font: \"STIX-Web\"}});}\n",
       "        if (typeof require !== 'undefined') {\n",
       "        require.undef(\"plotly\");\n",
       "        requirejs.config({\n",
       "            paths: {\n",
       "                'plotly': ['https://cdn.plot.ly/plotly-2.14.0.min']\n",
       "            }\n",
       "        });\n",
       "        require(['plotly'], function(Plotly) {\n",
       "            window._Plotly = Plotly;\n",
       "        });\n",
       "        }\n",
       "        </script>\n",
       "        "
      ]
     },
     "metadata": {},
     "output_type": "display_data"
    }
   ],
   "source": [
    "cf.go_offline()"
   ]
  },
  {
   "cell_type": "code",
   "execution_count": 37,
   "id": "b08cdb16",
   "metadata": {},
   "outputs": [
    {
     "data": {
      "application/vnd.plotly.v1+json": {
       "config": {
        "linkText": "Export to plot.ly",
        "plotlyServerURL": "https://plot.ly",
        "showLink": true
       },
       "data": [
        {
         "marker": {
          "color": "rgba(255, 153, 51, 0.6)",
          "line": {
           "color": "rgba(255, 153, 51, 1.0)",
           "width": 1
          }
         },
         "name": "Dep_Time_hour",
         "orientation": "v",
         "text": "",
         "type": "bar",
         "x": [
          "Early morning",
          "Evening",
          "Morning",
          "Noon",
          "Night",
          "Late night"
         ],
         "y": [
          2880,
          2357,
          2209,
          1731,
          1040,
          465
         ]
        }
       ],
       "layout": {
        "legend": {
         "bgcolor": "#F5F6F9",
         "font": {
          "color": "#4D5663"
         }
        },
        "paper_bgcolor": "#F5F6F9",
        "plot_bgcolor": "#F5F6F9",
        "template": {
         "data": {
          "bar": [
           {
            "error_x": {
             "color": "#2a3f5f"
            },
            "error_y": {
             "color": "#2a3f5f"
            },
            "marker": {
             "line": {
              "color": "#E5ECF6",
              "width": 0.5
             },
             "pattern": {
              "fillmode": "overlay",
              "size": 10,
              "solidity": 0.2
             }
            },
            "type": "bar"
           }
          ],
          "barpolar": [
           {
            "marker": {
             "line": {
              "color": "#E5ECF6",
              "width": 0.5
             },
             "pattern": {
              "fillmode": "overlay",
              "size": 10,
              "solidity": 0.2
             }
            },
            "type": "barpolar"
           }
          ],
          "carpet": [
           {
            "aaxis": {
             "endlinecolor": "#2a3f5f",
             "gridcolor": "white",
             "linecolor": "white",
             "minorgridcolor": "white",
             "startlinecolor": "#2a3f5f"
            },
            "baxis": {
             "endlinecolor": "#2a3f5f",
             "gridcolor": "white",
             "linecolor": "white",
             "minorgridcolor": "white",
             "startlinecolor": "#2a3f5f"
            },
            "type": "carpet"
           }
          ],
          "choropleth": [
           {
            "colorbar": {
             "outlinewidth": 0,
             "ticks": ""
            },
            "type": "choropleth"
           }
          ],
          "contour": [
           {
            "colorbar": {
             "outlinewidth": 0,
             "ticks": ""
            },
            "colorscale": [
             [
              0,
              "#0d0887"
             ],
             [
              0.1111111111111111,
              "#46039f"
             ],
             [
              0.2222222222222222,
              "#7201a8"
             ],
             [
              0.3333333333333333,
              "#9c179e"
             ],
             [
              0.4444444444444444,
              "#bd3786"
             ],
             [
              0.5555555555555556,
              "#d8576b"
             ],
             [
              0.6666666666666666,
              "#ed7953"
             ],
             [
              0.7777777777777778,
              "#fb9f3a"
             ],
             [
              0.8888888888888888,
              "#fdca26"
             ],
             [
              1,
              "#f0f921"
             ]
            ],
            "type": "contour"
           }
          ],
          "contourcarpet": [
           {
            "colorbar": {
             "outlinewidth": 0,
             "ticks": ""
            },
            "type": "contourcarpet"
           }
          ],
          "heatmap": [
           {
            "colorbar": {
             "outlinewidth": 0,
             "ticks": ""
            },
            "colorscale": [
             [
              0,
              "#0d0887"
             ],
             [
              0.1111111111111111,
              "#46039f"
             ],
             [
              0.2222222222222222,
              "#7201a8"
             ],
             [
              0.3333333333333333,
              "#9c179e"
             ],
             [
              0.4444444444444444,
              "#bd3786"
             ],
             [
              0.5555555555555556,
              "#d8576b"
             ],
             [
              0.6666666666666666,
              "#ed7953"
             ],
             [
              0.7777777777777778,
              "#fb9f3a"
             ],
             [
              0.8888888888888888,
              "#fdca26"
             ],
             [
              1,
              "#f0f921"
             ]
            ],
            "type": "heatmap"
           }
          ],
          "heatmapgl": [
           {
            "colorbar": {
             "outlinewidth": 0,
             "ticks": ""
            },
            "colorscale": [
             [
              0,
              "#0d0887"
             ],
             [
              0.1111111111111111,
              "#46039f"
             ],
             [
              0.2222222222222222,
              "#7201a8"
             ],
             [
              0.3333333333333333,
              "#9c179e"
             ],
             [
              0.4444444444444444,
              "#bd3786"
             ],
             [
              0.5555555555555556,
              "#d8576b"
             ],
             [
              0.6666666666666666,
              "#ed7953"
             ],
             [
              0.7777777777777778,
              "#fb9f3a"
             ],
             [
              0.8888888888888888,
              "#fdca26"
             ],
             [
              1,
              "#f0f921"
             ]
            ],
            "type": "heatmapgl"
           }
          ],
          "histogram": [
           {
            "marker": {
             "pattern": {
              "fillmode": "overlay",
              "size": 10,
              "solidity": 0.2
             }
            },
            "type": "histogram"
           }
          ],
          "histogram2d": [
           {
            "colorbar": {
             "outlinewidth": 0,
             "ticks": ""
            },
            "colorscale": [
             [
              0,
              "#0d0887"
             ],
             [
              0.1111111111111111,
              "#46039f"
             ],
             [
              0.2222222222222222,
              "#7201a8"
             ],
             [
              0.3333333333333333,
              "#9c179e"
             ],
             [
              0.4444444444444444,
              "#bd3786"
             ],
             [
              0.5555555555555556,
              "#d8576b"
             ],
             [
              0.6666666666666666,
              "#ed7953"
             ],
             [
              0.7777777777777778,
              "#fb9f3a"
             ],
             [
              0.8888888888888888,
              "#fdca26"
             ],
             [
              1,
              "#f0f921"
             ]
            ],
            "type": "histogram2d"
           }
          ],
          "histogram2dcontour": [
           {
            "colorbar": {
             "outlinewidth": 0,
             "ticks": ""
            },
            "colorscale": [
             [
              0,
              "#0d0887"
             ],
             [
              0.1111111111111111,
              "#46039f"
             ],
             [
              0.2222222222222222,
              "#7201a8"
             ],
             [
              0.3333333333333333,
              "#9c179e"
             ],
             [
              0.4444444444444444,
              "#bd3786"
             ],
             [
              0.5555555555555556,
              "#d8576b"
             ],
             [
              0.6666666666666666,
              "#ed7953"
             ],
             [
              0.7777777777777778,
              "#fb9f3a"
             ],
             [
              0.8888888888888888,
              "#fdca26"
             ],
             [
              1,
              "#f0f921"
             ]
            ],
            "type": "histogram2dcontour"
           }
          ],
          "mesh3d": [
           {
            "colorbar": {
             "outlinewidth": 0,
             "ticks": ""
            },
            "type": "mesh3d"
           }
          ],
          "parcoords": [
           {
            "line": {
             "colorbar": {
              "outlinewidth": 0,
              "ticks": ""
             }
            },
            "type": "parcoords"
           }
          ],
          "pie": [
           {
            "automargin": true,
            "type": "pie"
           }
          ],
          "scatter": [
           {
            "fillpattern": {
             "fillmode": "overlay",
             "size": 10,
             "solidity": 0.2
            },
            "type": "scatter"
           }
          ],
          "scatter3d": [
           {
            "line": {
             "colorbar": {
              "outlinewidth": 0,
              "ticks": ""
             }
            },
            "marker": {
             "colorbar": {
              "outlinewidth": 0,
              "ticks": ""
             }
            },
            "type": "scatter3d"
           }
          ],
          "scattercarpet": [
           {
            "marker": {
             "colorbar": {
              "outlinewidth": 0,
              "ticks": ""
             }
            },
            "type": "scattercarpet"
           }
          ],
          "scattergeo": [
           {
            "marker": {
             "colorbar": {
              "outlinewidth": 0,
              "ticks": ""
             }
            },
            "type": "scattergeo"
           }
          ],
          "scattergl": [
           {
            "marker": {
             "colorbar": {
              "outlinewidth": 0,
              "ticks": ""
             }
            },
            "type": "scattergl"
           }
          ],
          "scattermapbox": [
           {
            "marker": {
             "colorbar": {
              "outlinewidth": 0,
              "ticks": ""
             }
            },
            "type": "scattermapbox"
           }
          ],
          "scatterpolar": [
           {
            "marker": {
             "colorbar": {
              "outlinewidth": 0,
              "ticks": ""
             }
            },
            "type": "scatterpolar"
           }
          ],
          "scatterpolargl": [
           {
            "marker": {
             "colorbar": {
              "outlinewidth": 0,
              "ticks": ""
             }
            },
            "type": "scatterpolargl"
           }
          ],
          "scatterternary": [
           {
            "marker": {
             "colorbar": {
              "outlinewidth": 0,
              "ticks": ""
             }
            },
            "type": "scatterternary"
           }
          ],
          "surface": [
           {
            "colorbar": {
             "outlinewidth": 0,
             "ticks": ""
            },
            "colorscale": [
             [
              0,
              "#0d0887"
             ],
             [
              0.1111111111111111,
              "#46039f"
             ],
             [
              0.2222222222222222,
              "#7201a8"
             ],
             [
              0.3333333333333333,
              "#9c179e"
             ],
             [
              0.4444444444444444,
              "#bd3786"
             ],
             [
              0.5555555555555556,
              "#d8576b"
             ],
             [
              0.6666666666666666,
              "#ed7953"
             ],
             [
              0.7777777777777778,
              "#fb9f3a"
             ],
             [
              0.8888888888888888,
              "#fdca26"
             ],
             [
              1,
              "#f0f921"
             ]
            ],
            "type": "surface"
           }
          ],
          "table": [
           {
            "cells": {
             "fill": {
              "color": "#EBF0F8"
             },
             "line": {
              "color": "white"
             }
            },
            "header": {
             "fill": {
              "color": "#C8D4E3"
             },
             "line": {
              "color": "white"
             }
            },
            "type": "table"
           }
          ]
         },
         "layout": {
          "annotationdefaults": {
           "arrowcolor": "#2a3f5f",
           "arrowhead": 0,
           "arrowwidth": 1
          },
          "autotypenumbers": "strict",
          "coloraxis": {
           "colorbar": {
            "outlinewidth": 0,
            "ticks": ""
           }
          },
          "colorscale": {
           "diverging": [
            [
             0,
             "#8e0152"
            ],
            [
             0.1,
             "#c51b7d"
            ],
            [
             0.2,
             "#de77ae"
            ],
            [
             0.3,
             "#f1b6da"
            ],
            [
             0.4,
             "#fde0ef"
            ],
            [
             0.5,
             "#f7f7f7"
            ],
            [
             0.6,
             "#e6f5d0"
            ],
            [
             0.7,
             "#b8e186"
            ],
            [
             0.8,
             "#7fbc41"
            ],
            [
             0.9,
             "#4d9221"
            ],
            [
             1,
             "#276419"
            ]
           ],
           "sequential": [
            [
             0,
             "#0d0887"
            ],
            [
             0.1111111111111111,
             "#46039f"
            ],
            [
             0.2222222222222222,
             "#7201a8"
            ],
            [
             0.3333333333333333,
             "#9c179e"
            ],
            [
             0.4444444444444444,
             "#bd3786"
            ],
            [
             0.5555555555555556,
             "#d8576b"
            ],
            [
             0.6666666666666666,
             "#ed7953"
            ],
            [
             0.7777777777777778,
             "#fb9f3a"
            ],
            [
             0.8888888888888888,
             "#fdca26"
            ],
            [
             1,
             "#f0f921"
            ]
           ],
           "sequentialminus": [
            [
             0,
             "#0d0887"
            ],
            [
             0.1111111111111111,
             "#46039f"
            ],
            [
             0.2222222222222222,
             "#7201a8"
            ],
            [
             0.3333333333333333,
             "#9c179e"
            ],
            [
             0.4444444444444444,
             "#bd3786"
            ],
            [
             0.5555555555555556,
             "#d8576b"
            ],
            [
             0.6666666666666666,
             "#ed7953"
            ],
            [
             0.7777777777777778,
             "#fb9f3a"
            ],
            [
             0.8888888888888888,
             "#fdca26"
            ],
            [
             1,
             "#f0f921"
            ]
           ]
          },
          "colorway": [
           "#636efa",
           "#EF553B",
           "#00cc96",
           "#ab63fa",
           "#FFA15A",
           "#19d3f3",
           "#FF6692",
           "#B6E880",
           "#FF97FF",
           "#FECB52"
          ],
          "font": {
           "color": "#2a3f5f"
          },
          "geo": {
           "bgcolor": "white",
           "lakecolor": "white",
           "landcolor": "#E5ECF6",
           "showlakes": true,
           "showland": true,
           "subunitcolor": "white"
          },
          "hoverlabel": {
           "align": "left"
          },
          "hovermode": "closest",
          "mapbox": {
           "style": "light"
          },
          "paper_bgcolor": "white",
          "plot_bgcolor": "#E5ECF6",
          "polar": {
           "angularaxis": {
            "gridcolor": "white",
            "linecolor": "white",
            "ticks": ""
           },
           "bgcolor": "#E5ECF6",
           "radialaxis": {
            "gridcolor": "white",
            "linecolor": "white",
            "ticks": ""
           }
          },
          "scene": {
           "xaxis": {
            "backgroundcolor": "#E5ECF6",
            "gridcolor": "white",
            "gridwidth": 2,
            "linecolor": "white",
            "showbackground": true,
            "ticks": "",
            "zerolinecolor": "white"
           },
           "yaxis": {
            "backgroundcolor": "#E5ECF6",
            "gridcolor": "white",
            "gridwidth": 2,
            "linecolor": "white",
            "showbackground": true,
            "ticks": "",
            "zerolinecolor": "white"
           },
           "zaxis": {
            "backgroundcolor": "#E5ECF6",
            "gridcolor": "white",
            "gridwidth": 2,
            "linecolor": "white",
            "showbackground": true,
            "ticks": "",
            "zerolinecolor": "white"
           }
          },
          "shapedefaults": {
           "line": {
            "color": "#2a3f5f"
           }
          },
          "ternary": {
           "aaxis": {
            "gridcolor": "white",
            "linecolor": "white",
            "ticks": ""
           },
           "baxis": {
            "gridcolor": "white",
            "linecolor": "white",
            "ticks": ""
           },
           "bgcolor": "#E5ECF6",
           "caxis": {
            "gridcolor": "white",
            "linecolor": "white",
            "ticks": ""
           }
          },
          "title": {
           "x": 0.05
          },
          "xaxis": {
           "automargin": true,
           "gridcolor": "white",
           "linecolor": "white",
           "ticks": "",
           "title": {
            "standoff": 15
           },
           "zerolinecolor": "white",
           "zerolinewidth": 2
          },
          "yaxis": {
           "automargin": true,
           "gridcolor": "white",
           "linecolor": "white",
           "ticks": "",
           "title": {
            "standoff": 15
           },
           "zerolinecolor": "white",
           "zerolinewidth": 2
          }
         }
        },
        "title": {
         "font": {
          "color": "#4D5663"
         }
        },
        "xaxis": {
         "gridcolor": "#E1E5ED",
         "showgrid": true,
         "tickfont": {
          "color": "#4D5663"
         },
         "title": {
          "font": {
           "color": "#4D5663"
          },
          "text": ""
         },
         "zerolinecolor": "#E1E5ED"
        },
        "yaxis": {
         "gridcolor": "#E1E5ED",
         "showgrid": true,
         "tickfont": {
          "color": "#4D5663"
         },
         "title": {
          "font": {
           "color": "#4D5663"
          },
          "text": ""
         },
         "zerolinecolor": "#E1E5ED"
        }
       }
      },
      "text/html": [
       "<div>                            <div id=\"596f2108-8b12-40e6-a7e3-a23ccb7eed7d\" class=\"plotly-graph-div\" style=\"height:525px; width:100%;\"></div>            <script type=\"text/javascript\">                require([\"plotly\"], function(Plotly) {                    window.PLOTLYENV=window.PLOTLYENV || {};\n",
       "                    window.PLOTLYENV.BASE_URL='https://plot.ly';                                    if (document.getElementById(\"596f2108-8b12-40e6-a7e3-a23ccb7eed7d\")) {                    Plotly.newPlot(                        \"596f2108-8b12-40e6-a7e3-a23ccb7eed7d\",                        [{\"marker\":{\"color\":\"rgba(255, 153, 51, 0.6)\",\"line\":{\"color\":\"rgba(255, 153, 51, 1.0)\",\"width\":1}},\"name\":\"Dep_Time_hour\",\"orientation\":\"v\",\"text\":\"\",\"x\":[\"Early morning\",\"Evening\",\"Morning\",\"Noon\",\"Night\",\"Late night\"],\"y\":[2880,2357,2209,1731,1040,465],\"type\":\"bar\"}],                        {\"legend\":{\"bgcolor\":\"#F5F6F9\",\"font\":{\"color\":\"#4D5663\"}},\"paper_bgcolor\":\"#F5F6F9\",\"plot_bgcolor\":\"#F5F6F9\",\"template\":{\"data\":{\"barpolar\":[{\"marker\":{\"line\":{\"color\":\"#E5ECF6\",\"width\":0.5},\"pattern\":{\"fillmode\":\"overlay\",\"size\":10,\"solidity\":0.2}},\"type\":\"barpolar\"}],\"bar\":[{\"error_x\":{\"color\":\"#2a3f5f\"},\"error_y\":{\"color\":\"#2a3f5f\"},\"marker\":{\"line\":{\"color\":\"#E5ECF6\",\"width\":0.5},\"pattern\":{\"fillmode\":\"overlay\",\"size\":10,\"solidity\":0.2}},\"type\":\"bar\"}],\"carpet\":[{\"aaxis\":{\"endlinecolor\":\"#2a3f5f\",\"gridcolor\":\"white\",\"linecolor\":\"white\",\"minorgridcolor\":\"white\",\"startlinecolor\":\"#2a3f5f\"},\"baxis\":{\"endlinecolor\":\"#2a3f5f\",\"gridcolor\":\"white\",\"linecolor\":\"white\",\"minorgridcolor\":\"white\",\"startlinecolor\":\"#2a3f5f\"},\"type\":\"carpet\"}],\"choropleth\":[{\"colorbar\":{\"outlinewidth\":0,\"ticks\":\"\"},\"type\":\"choropleth\"}],\"contourcarpet\":[{\"colorbar\":{\"outlinewidth\":0,\"ticks\":\"\"},\"type\":\"contourcarpet\"}],\"contour\":[{\"colorbar\":{\"outlinewidth\":0,\"ticks\":\"\"},\"colorscale\":[[0.0,\"#0d0887\"],[0.1111111111111111,\"#46039f\"],[0.2222222222222222,\"#7201a8\"],[0.3333333333333333,\"#9c179e\"],[0.4444444444444444,\"#bd3786\"],[0.5555555555555556,\"#d8576b\"],[0.6666666666666666,\"#ed7953\"],[0.7777777777777778,\"#fb9f3a\"],[0.8888888888888888,\"#fdca26\"],[1.0,\"#f0f921\"]],\"type\":\"contour\"}],\"heatmapgl\":[{\"colorbar\":{\"outlinewidth\":0,\"ticks\":\"\"},\"colorscale\":[[0.0,\"#0d0887\"],[0.1111111111111111,\"#46039f\"],[0.2222222222222222,\"#7201a8\"],[0.3333333333333333,\"#9c179e\"],[0.4444444444444444,\"#bd3786\"],[0.5555555555555556,\"#d8576b\"],[0.6666666666666666,\"#ed7953\"],[0.7777777777777778,\"#fb9f3a\"],[0.8888888888888888,\"#fdca26\"],[1.0,\"#f0f921\"]],\"type\":\"heatmapgl\"}],\"heatmap\":[{\"colorbar\":{\"outlinewidth\":0,\"ticks\":\"\"},\"colorscale\":[[0.0,\"#0d0887\"],[0.1111111111111111,\"#46039f\"],[0.2222222222222222,\"#7201a8\"],[0.3333333333333333,\"#9c179e\"],[0.4444444444444444,\"#bd3786\"],[0.5555555555555556,\"#d8576b\"],[0.6666666666666666,\"#ed7953\"],[0.7777777777777778,\"#fb9f3a\"],[0.8888888888888888,\"#fdca26\"],[1.0,\"#f0f921\"]],\"type\":\"heatmap\"}],\"histogram2dcontour\":[{\"colorbar\":{\"outlinewidth\":0,\"ticks\":\"\"},\"colorscale\":[[0.0,\"#0d0887\"],[0.1111111111111111,\"#46039f\"],[0.2222222222222222,\"#7201a8\"],[0.3333333333333333,\"#9c179e\"],[0.4444444444444444,\"#bd3786\"],[0.5555555555555556,\"#d8576b\"],[0.6666666666666666,\"#ed7953\"],[0.7777777777777778,\"#fb9f3a\"],[0.8888888888888888,\"#fdca26\"],[1.0,\"#f0f921\"]],\"type\":\"histogram2dcontour\"}],\"histogram2d\":[{\"colorbar\":{\"outlinewidth\":0,\"ticks\":\"\"},\"colorscale\":[[0.0,\"#0d0887\"],[0.1111111111111111,\"#46039f\"],[0.2222222222222222,\"#7201a8\"],[0.3333333333333333,\"#9c179e\"],[0.4444444444444444,\"#bd3786\"],[0.5555555555555556,\"#d8576b\"],[0.6666666666666666,\"#ed7953\"],[0.7777777777777778,\"#fb9f3a\"],[0.8888888888888888,\"#fdca26\"],[1.0,\"#f0f921\"]],\"type\":\"histogram2d\"}],\"histogram\":[{\"marker\":{\"pattern\":{\"fillmode\":\"overlay\",\"size\":10,\"solidity\":0.2}},\"type\":\"histogram\"}],\"mesh3d\":[{\"colorbar\":{\"outlinewidth\":0,\"ticks\":\"\"},\"type\":\"mesh3d\"}],\"parcoords\":[{\"line\":{\"colorbar\":{\"outlinewidth\":0,\"ticks\":\"\"}},\"type\":\"parcoords\"}],\"pie\":[{\"automargin\":true,\"type\":\"pie\"}],\"scatter3d\":[{\"line\":{\"colorbar\":{\"outlinewidth\":0,\"ticks\":\"\"}},\"marker\":{\"colorbar\":{\"outlinewidth\":0,\"ticks\":\"\"}},\"type\":\"scatter3d\"}],\"scattercarpet\":[{\"marker\":{\"colorbar\":{\"outlinewidth\":0,\"ticks\":\"\"}},\"type\":\"scattercarpet\"}],\"scattergeo\":[{\"marker\":{\"colorbar\":{\"outlinewidth\":0,\"ticks\":\"\"}},\"type\":\"scattergeo\"}],\"scattergl\":[{\"marker\":{\"colorbar\":{\"outlinewidth\":0,\"ticks\":\"\"}},\"type\":\"scattergl\"}],\"scattermapbox\":[{\"marker\":{\"colorbar\":{\"outlinewidth\":0,\"ticks\":\"\"}},\"type\":\"scattermapbox\"}],\"scatterpolargl\":[{\"marker\":{\"colorbar\":{\"outlinewidth\":0,\"ticks\":\"\"}},\"type\":\"scatterpolargl\"}],\"scatterpolar\":[{\"marker\":{\"colorbar\":{\"outlinewidth\":0,\"ticks\":\"\"}},\"type\":\"scatterpolar\"}],\"scatter\":[{\"fillpattern\":{\"fillmode\":\"overlay\",\"size\":10,\"solidity\":0.2},\"type\":\"scatter\"}],\"scatterternary\":[{\"marker\":{\"colorbar\":{\"outlinewidth\":0,\"ticks\":\"\"}},\"type\":\"scatterternary\"}],\"surface\":[{\"colorbar\":{\"outlinewidth\":0,\"ticks\":\"\"},\"colorscale\":[[0.0,\"#0d0887\"],[0.1111111111111111,\"#46039f\"],[0.2222222222222222,\"#7201a8\"],[0.3333333333333333,\"#9c179e\"],[0.4444444444444444,\"#bd3786\"],[0.5555555555555556,\"#d8576b\"],[0.6666666666666666,\"#ed7953\"],[0.7777777777777778,\"#fb9f3a\"],[0.8888888888888888,\"#fdca26\"],[1.0,\"#f0f921\"]],\"type\":\"surface\"}],\"table\":[{\"cells\":{\"fill\":{\"color\":\"#EBF0F8\"},\"line\":{\"color\":\"white\"}},\"header\":{\"fill\":{\"color\":\"#C8D4E3\"},\"line\":{\"color\":\"white\"}},\"type\":\"table\"}]},\"layout\":{\"annotationdefaults\":{\"arrowcolor\":\"#2a3f5f\",\"arrowhead\":0,\"arrowwidth\":1},\"autotypenumbers\":\"strict\",\"coloraxis\":{\"colorbar\":{\"outlinewidth\":0,\"ticks\":\"\"}},\"colorscale\":{\"diverging\":[[0,\"#8e0152\"],[0.1,\"#c51b7d\"],[0.2,\"#de77ae\"],[0.3,\"#f1b6da\"],[0.4,\"#fde0ef\"],[0.5,\"#f7f7f7\"],[0.6,\"#e6f5d0\"],[0.7,\"#b8e186\"],[0.8,\"#7fbc41\"],[0.9,\"#4d9221\"],[1,\"#276419\"]],\"sequential\":[[0.0,\"#0d0887\"],[0.1111111111111111,\"#46039f\"],[0.2222222222222222,\"#7201a8\"],[0.3333333333333333,\"#9c179e\"],[0.4444444444444444,\"#bd3786\"],[0.5555555555555556,\"#d8576b\"],[0.6666666666666666,\"#ed7953\"],[0.7777777777777778,\"#fb9f3a\"],[0.8888888888888888,\"#fdca26\"],[1.0,\"#f0f921\"]],\"sequentialminus\":[[0.0,\"#0d0887\"],[0.1111111111111111,\"#46039f\"],[0.2222222222222222,\"#7201a8\"],[0.3333333333333333,\"#9c179e\"],[0.4444444444444444,\"#bd3786\"],[0.5555555555555556,\"#d8576b\"],[0.6666666666666666,\"#ed7953\"],[0.7777777777777778,\"#fb9f3a\"],[0.8888888888888888,\"#fdca26\"],[1.0,\"#f0f921\"]]},\"colorway\":[\"#636efa\",\"#EF553B\",\"#00cc96\",\"#ab63fa\",\"#FFA15A\",\"#19d3f3\",\"#FF6692\",\"#B6E880\",\"#FF97FF\",\"#FECB52\"],\"font\":{\"color\":\"#2a3f5f\"},\"geo\":{\"bgcolor\":\"white\",\"lakecolor\":\"white\",\"landcolor\":\"#E5ECF6\",\"showlakes\":true,\"showland\":true,\"subunitcolor\":\"white\"},\"hoverlabel\":{\"align\":\"left\"},\"hovermode\":\"closest\",\"mapbox\":{\"style\":\"light\"},\"paper_bgcolor\":\"white\",\"plot_bgcolor\":\"#E5ECF6\",\"polar\":{\"angularaxis\":{\"gridcolor\":\"white\",\"linecolor\":\"white\",\"ticks\":\"\"},\"bgcolor\":\"#E5ECF6\",\"radialaxis\":{\"gridcolor\":\"white\",\"linecolor\":\"white\",\"ticks\":\"\"}},\"scene\":{\"xaxis\":{\"backgroundcolor\":\"#E5ECF6\",\"gridcolor\":\"white\",\"gridwidth\":2,\"linecolor\":\"white\",\"showbackground\":true,\"ticks\":\"\",\"zerolinecolor\":\"white\"},\"yaxis\":{\"backgroundcolor\":\"#E5ECF6\",\"gridcolor\":\"white\",\"gridwidth\":2,\"linecolor\":\"white\",\"showbackground\":true,\"ticks\":\"\",\"zerolinecolor\":\"white\"},\"zaxis\":{\"backgroundcolor\":\"#E5ECF6\",\"gridcolor\":\"white\",\"gridwidth\":2,\"linecolor\":\"white\",\"showbackground\":true,\"ticks\":\"\",\"zerolinecolor\":\"white\"}},\"shapedefaults\":{\"line\":{\"color\":\"#2a3f5f\"}},\"ternary\":{\"aaxis\":{\"gridcolor\":\"white\",\"linecolor\":\"white\",\"ticks\":\"\"},\"baxis\":{\"gridcolor\":\"white\",\"linecolor\":\"white\",\"ticks\":\"\"},\"bgcolor\":\"#E5ECF6\",\"caxis\":{\"gridcolor\":\"white\",\"linecolor\":\"white\",\"ticks\":\"\"}},\"title\":{\"x\":0.05},\"xaxis\":{\"automargin\":true,\"gridcolor\":\"white\",\"linecolor\":\"white\",\"ticks\":\"\",\"title\":{\"standoff\":15},\"zerolinecolor\":\"white\",\"zerolinewidth\":2},\"yaxis\":{\"automargin\":true,\"gridcolor\":\"white\",\"linecolor\":\"white\",\"ticks\":\"\",\"title\":{\"standoff\":15},\"zerolinecolor\":\"white\",\"zerolinewidth\":2}}},\"title\":{\"font\":{\"color\":\"#4D5663\"}},\"xaxis\":{\"gridcolor\":\"#E1E5ED\",\"showgrid\":true,\"tickfont\":{\"color\":\"#4D5663\"},\"title\":{\"font\":{\"color\":\"#4D5663\"},\"text\":\"\"},\"zerolinecolor\":\"#E1E5ED\"},\"yaxis\":{\"gridcolor\":\"#E1E5ED\",\"showgrid\":true,\"tickfont\":{\"color\":\"#4D5663\"},\"title\":{\"font\":{\"color\":\"#4D5663\"},\"text\":\"\"},\"zerolinecolor\":\"#E1E5ED\"}},                        {\"showLink\": true, \"linkText\": \"Export to plot.ly\", \"plotlyServerURL\": \"https://plot.ly\", \"responsive\": true}                    ).then(function(){\n",
       "                            \n",
       "var gd = document.getElementById('596f2108-8b12-40e6-a7e3-a23ccb7eed7d');\n",
       "var x = new MutationObserver(function (mutations, observer) {{\n",
       "        var display = window.getComputedStyle(gd).display;\n",
       "        if (!display || display === 'none') {{\n",
       "            console.log([gd, 'removed!']);\n",
       "            Plotly.purge(gd);\n",
       "            observer.disconnect();\n",
       "        }}\n",
       "}});\n",
       "\n",
       "// Listen for the removal of the full notebook cells\n",
       "var notebookContainer = gd.closest('#notebook-container');\n",
       "if (notebookContainer) {{\n",
       "    x.observe(notebookContainer, {childList: true});\n",
       "}}\n",
       "\n",
       "// Listen for the clearing of the current output cell\n",
       "var outputEl = gd.closest('.output');\n",
       "if (outputEl) {{\n",
       "    x.observe(outputEl, {childList: true});\n",
       "}}\n",
       "\n",
       "                        })                };                });            </script>        </div>"
      ]
     },
     "metadata": {},
     "output_type": "display_data"
    }
   ],
   "source": [
    "data['Dep_Time_hour'].apply(flight_dep_time).value_counts().iplot(kind='bar')"
   ]
  },
  {
   "cell_type": "code",
   "execution_count": null,
   "id": "05d35bfa",
   "metadata": {},
   "outputs": [],
   "source": []
  },
  {
   "cell_type": "code",
   "execution_count": null,
   "id": "5726eafc",
   "metadata": {},
   "outputs": [],
   "source": []
  },
  {
   "cell_type": "markdown",
   "id": "f3a84e92",
   "metadata": {},
   "source": [
    "### Let's Pre-process Duration feature and extract meaningful features "
   ]
  },
  {
   "cell_type": "markdown",
   "id": "11fca19b",
   "metadata": {},
   "source": [
    "Let's pre-process Duration feature and extract duration hours and minutes from this feature\n",
    "\n",
    "As our ML model does not understand this duration since it contains string values, so we need to add new features Duration_hour and Duration_minute for our ML model to understand the data."
   ]
  },
  {
   "cell_type": "code",
   "execution_count": 38,
   "id": "18c9c3fe",
   "metadata": {},
   "outputs": [
    {
     "data": {
      "text/html": [
       "<div>\n",
       "<style scoped>\n",
       "    .dataframe tbody tr th:only-of-type {\n",
       "        vertical-align: middle;\n",
       "    }\n",
       "\n",
       "    .dataframe tbody tr th {\n",
       "        vertical-align: top;\n",
       "    }\n",
       "\n",
       "    .dataframe thead th {\n",
       "        text-align: right;\n",
       "    }\n",
       "</style>\n",
       "<table border=\"1\" class=\"dataframe\">\n",
       "  <thead>\n",
       "    <tr style=\"text-align: right;\">\n",
       "      <th></th>\n",
       "      <th>Airline</th>\n",
       "      <th>Source</th>\n",
       "      <th>Destination</th>\n",
       "      <th>Route</th>\n",
       "      <th>Duration</th>\n",
       "      <th>Total_Stops</th>\n",
       "      <th>Additional_Info</th>\n",
       "      <th>Price</th>\n",
       "      <th>Journey_day</th>\n",
       "      <th>Journey_month</th>\n",
       "      <th>Journey_year</th>\n",
       "      <th>Dep_Time_hour</th>\n",
       "      <th>Dep_Time_minute</th>\n",
       "      <th>Arrival_Time_hour</th>\n",
       "      <th>Arrival_Time_minute</th>\n",
       "    </tr>\n",
       "  </thead>\n",
       "  <tbody>\n",
       "    <tr>\n",
       "      <th>0</th>\n",
       "      <td>IndiGo</td>\n",
       "      <td>Banglore</td>\n",
       "      <td>New Delhi</td>\n",
       "      <td>BLR → DEL</td>\n",
       "      <td>2h 50m</td>\n",
       "      <td>non-stop</td>\n",
       "      <td>No info</td>\n",
       "      <td>3897</td>\n",
       "      <td>24</td>\n",
       "      <td>3</td>\n",
       "      <td>2019</td>\n",
       "      <td>22</td>\n",
       "      <td>20</td>\n",
       "      <td>1</td>\n",
       "      <td>10</td>\n",
       "    </tr>\n",
       "    <tr>\n",
       "      <th>1</th>\n",
       "      <td>Air India</td>\n",
       "      <td>Kolkata</td>\n",
       "      <td>Banglore</td>\n",
       "      <td>CCU → IXR → BBI → BLR</td>\n",
       "      <td>7h 25m</td>\n",
       "      <td>2 stops</td>\n",
       "      <td>No info</td>\n",
       "      <td>7662</td>\n",
       "      <td>5</td>\n",
       "      <td>1</td>\n",
       "      <td>2019</td>\n",
       "      <td>5</td>\n",
       "      <td>50</td>\n",
       "      <td>13</td>\n",
       "      <td>15</td>\n",
       "    </tr>\n",
       "  </tbody>\n",
       "</table>\n",
       "</div>"
      ],
      "text/plain": [
       "     Airline    Source Destination                  Route Duration  \\\n",
       "0     IndiGo  Banglore   New Delhi              BLR → DEL   2h 50m   \n",
       "1  Air India   Kolkata    Banglore  CCU → IXR → BBI → BLR   7h 25m   \n",
       "\n",
       "  Total_Stops Additional_Info  Price  Journey_day  Journey_month  \\\n",
       "0    non-stop         No info   3897           24              3   \n",
       "1     2 stops         No info   7662            5              1   \n",
       "\n",
       "   Journey_year  Dep_Time_hour  Dep_Time_minute  Arrival_Time_hour  \\\n",
       "0          2019             22               20                  1   \n",
       "1          2019              5               50                 13   \n",
       "\n",
       "   Arrival_Time_minute  \n",
       "0                   10  \n",
       "1                   15  "
      ]
     },
     "execution_count": 38,
     "metadata": {},
     "output_type": "execute_result"
    }
   ],
   "source": [
    "data.head(2)"
   ]
  },
  {
   "cell_type": "code",
   "execution_count": 39,
   "id": "29e4bc94",
   "metadata": {},
   "outputs": [],
   "source": [
    "#define a function to preprocess Duration feature i.e. add hour or minute if these are missing at any place.\n",
    "\n",
    "def preprocess_duration(x):\n",
    "    if 'h' not in x:\n",
    "        x = '0h '+x\n",
    "    elif 'm' not in x:\n",
    "        x = x+' 0m'\n",
    "    return x"
   ]
  },
  {
   "cell_type": "code",
   "execution_count": 40,
   "id": "5ca61126",
   "metadata": {},
   "outputs": [],
   "source": [
    "data['Duration'] = data['Duration'].apply(preprocess_duration)"
   ]
  },
  {
   "cell_type": "code",
   "execution_count": 41,
   "id": "61d3351c",
   "metadata": {},
   "outputs": [
    {
     "data": {
      "text/plain": [
       "0        2h 50m\n",
       "1        7h 25m\n",
       "2        19h 0m\n",
       "3        5h 25m\n",
       "4        4h 45m\n",
       "          ...  \n",
       "10678    2h 30m\n",
       "10679    2h 35m\n",
       "10680     3h 0m\n",
       "10681    2h 40m\n",
       "10682    8h 20m\n",
       "Name: Duration, Length: 10682, dtype: object"
      ]
     },
     "execution_count": 41,
     "metadata": {},
     "output_type": "execute_result"
    }
   ],
   "source": [
    "data['Duration']"
   ]
  },
  {
   "cell_type": "markdown",
   "id": "e1b0051a",
   "metadata": {},
   "source": [
    "Now extract duration hour and minute"
   ]
  },
  {
   "cell_type": "code",
   "execution_count": 42,
   "id": "24e07f26",
   "metadata": {},
   "outputs": [
    {
     "data": {
      "text/plain": [
       "2"
      ]
     },
     "execution_count": 42,
     "metadata": {},
     "output_type": "execute_result"
    }
   ],
   "source": [
    "int(data['Duration'][0].split(' ')[0][0:-1])"
   ]
  },
  {
   "cell_type": "code",
   "execution_count": 43,
   "id": "36dd937c",
   "metadata": {},
   "outputs": [
    {
     "data": {
      "text/plain": [
       "50"
      ]
     },
     "execution_count": 43,
     "metadata": {},
     "output_type": "execute_result"
    }
   ],
   "source": [
    "int(data['Duration'][0].split(' ')[1][0:-1])"
   ]
  },
  {
   "cell_type": "code",
   "execution_count": 44,
   "id": "e2080b84",
   "metadata": {},
   "outputs": [],
   "source": [
    "data['Duration_hours'] = data['Duration'].apply(lambda x:int(x.split(' ')[0][:-1]))"
   ]
  },
  {
   "cell_type": "code",
   "execution_count": 45,
   "id": "dafe496d",
   "metadata": {},
   "outputs": [],
   "source": [
    "data['Duration_minutes'] = data['Duration'].apply(lambda x:int(x.split(' ')[1][:-1]))"
   ]
  },
  {
   "cell_type": "code",
   "execution_count": 46,
   "id": "bcb5e42e",
   "metadata": {},
   "outputs": [
    {
     "data": {
      "text/html": [
       "<div>\n",
       "<style scoped>\n",
       "    .dataframe tbody tr th:only-of-type {\n",
       "        vertical-align: middle;\n",
       "    }\n",
       "\n",
       "    .dataframe tbody tr th {\n",
       "        vertical-align: top;\n",
       "    }\n",
       "\n",
       "    .dataframe thead th {\n",
       "        text-align: right;\n",
       "    }\n",
       "</style>\n",
       "<table border=\"1\" class=\"dataframe\">\n",
       "  <thead>\n",
       "    <tr style=\"text-align: right;\">\n",
       "      <th></th>\n",
       "      <th>Airline</th>\n",
       "      <th>Source</th>\n",
       "      <th>Destination</th>\n",
       "      <th>Route</th>\n",
       "      <th>Duration</th>\n",
       "      <th>Total_Stops</th>\n",
       "      <th>Additional_Info</th>\n",
       "      <th>Price</th>\n",
       "      <th>Journey_day</th>\n",
       "      <th>Journey_month</th>\n",
       "      <th>Journey_year</th>\n",
       "      <th>Dep_Time_hour</th>\n",
       "      <th>Dep_Time_minute</th>\n",
       "      <th>Arrival_Time_hour</th>\n",
       "      <th>Arrival_Time_minute</th>\n",
       "      <th>Duration_hours</th>\n",
       "      <th>Duration_minutes</th>\n",
       "    </tr>\n",
       "  </thead>\n",
       "  <tbody>\n",
       "    <tr>\n",
       "      <th>0</th>\n",
       "      <td>IndiGo</td>\n",
       "      <td>Banglore</td>\n",
       "      <td>New Delhi</td>\n",
       "      <td>BLR → DEL</td>\n",
       "      <td>2h 50m</td>\n",
       "      <td>non-stop</td>\n",
       "      <td>No info</td>\n",
       "      <td>3897</td>\n",
       "      <td>24</td>\n",
       "      <td>3</td>\n",
       "      <td>2019</td>\n",
       "      <td>22</td>\n",
       "      <td>20</td>\n",
       "      <td>1</td>\n",
       "      <td>10</td>\n",
       "      <td>2</td>\n",
       "      <td>50</td>\n",
       "    </tr>\n",
       "    <tr>\n",
       "      <th>1</th>\n",
       "      <td>Air India</td>\n",
       "      <td>Kolkata</td>\n",
       "      <td>Banglore</td>\n",
       "      <td>CCU → IXR → BBI → BLR</td>\n",
       "      <td>7h 25m</td>\n",
       "      <td>2 stops</td>\n",
       "      <td>No info</td>\n",
       "      <td>7662</td>\n",
       "      <td>5</td>\n",
       "      <td>1</td>\n",
       "      <td>2019</td>\n",
       "      <td>5</td>\n",
       "      <td>50</td>\n",
       "      <td>13</td>\n",
       "      <td>15</td>\n",
       "      <td>7</td>\n",
       "      <td>25</td>\n",
       "    </tr>\n",
       "    <tr>\n",
       "      <th>2</th>\n",
       "      <td>Jet Airways</td>\n",
       "      <td>Delhi</td>\n",
       "      <td>Cochin</td>\n",
       "      <td>DEL → LKO → BOM → COK</td>\n",
       "      <td>19h 0m</td>\n",
       "      <td>2 stops</td>\n",
       "      <td>No info</td>\n",
       "      <td>13882</td>\n",
       "      <td>6</td>\n",
       "      <td>9</td>\n",
       "      <td>2019</td>\n",
       "      <td>9</td>\n",
       "      <td>25</td>\n",
       "      <td>4</td>\n",
       "      <td>25</td>\n",
       "      <td>19</td>\n",
       "      <td>0</td>\n",
       "    </tr>\n",
       "    <tr>\n",
       "      <th>3</th>\n",
       "      <td>IndiGo</td>\n",
       "      <td>Kolkata</td>\n",
       "      <td>Banglore</td>\n",
       "      <td>CCU → NAG → BLR</td>\n",
       "      <td>5h 25m</td>\n",
       "      <td>1 stop</td>\n",
       "      <td>No info</td>\n",
       "      <td>6218</td>\n",
       "      <td>5</td>\n",
       "      <td>12</td>\n",
       "      <td>2019</td>\n",
       "      <td>18</td>\n",
       "      <td>5</td>\n",
       "      <td>23</td>\n",
       "      <td>30</td>\n",
       "      <td>5</td>\n",
       "      <td>25</td>\n",
       "    </tr>\n",
       "    <tr>\n",
       "      <th>4</th>\n",
       "      <td>IndiGo</td>\n",
       "      <td>Banglore</td>\n",
       "      <td>New Delhi</td>\n",
       "      <td>BLR → NAG → DEL</td>\n",
       "      <td>4h 45m</td>\n",
       "      <td>1 stop</td>\n",
       "      <td>No info</td>\n",
       "      <td>13302</td>\n",
       "      <td>3</td>\n",
       "      <td>1</td>\n",
       "      <td>2019</td>\n",
       "      <td>16</td>\n",
       "      <td>50</td>\n",
       "      <td>21</td>\n",
       "      <td>35</td>\n",
       "      <td>4</td>\n",
       "      <td>45</td>\n",
       "    </tr>\n",
       "  </tbody>\n",
       "</table>\n",
       "</div>"
      ],
      "text/plain": [
       "       Airline    Source Destination                  Route Duration  \\\n",
       "0       IndiGo  Banglore   New Delhi              BLR → DEL   2h 50m   \n",
       "1    Air India   Kolkata    Banglore  CCU → IXR → BBI → BLR   7h 25m   \n",
       "2  Jet Airways     Delhi      Cochin  DEL → LKO → BOM → COK   19h 0m   \n",
       "3       IndiGo   Kolkata    Banglore        CCU → NAG → BLR   5h 25m   \n",
       "4       IndiGo  Banglore   New Delhi        BLR → NAG → DEL   4h 45m   \n",
       "\n",
       "  Total_Stops Additional_Info  Price  Journey_day  Journey_month  \\\n",
       "0    non-stop         No info   3897           24              3   \n",
       "1     2 stops         No info   7662            5              1   \n",
       "2     2 stops         No info  13882            6              9   \n",
       "3      1 stop         No info   6218            5             12   \n",
       "4      1 stop         No info  13302            3              1   \n",
       "\n",
       "   Journey_year  Dep_Time_hour  Dep_Time_minute  Arrival_Time_hour  \\\n",
       "0          2019             22               20                  1   \n",
       "1          2019              5               50                 13   \n",
       "2          2019              9               25                  4   \n",
       "3          2019             18                5                 23   \n",
       "4          2019             16               50                 21   \n",
       "\n",
       "   Arrival_Time_minute  Duration_hours  Duration_minutes  \n",
       "0                   10               2                50  \n",
       "1                   15               7                25  \n",
       "2                   25              19                 0  \n",
       "3                   30               5                25  \n",
       "4                   35               4                45  "
      ]
     },
     "execution_count": 46,
     "metadata": {},
     "output_type": "execute_result"
    }
   ],
   "source": [
    "data.head()"
   ]
  },
  {
   "cell_type": "code",
   "execution_count": null,
   "id": "6a7d8e24",
   "metadata": {},
   "outputs": [],
   "source": []
  },
  {
   "cell_type": "code",
   "execution_count": null,
   "id": "0ba152e0",
   "metadata": {},
   "outputs": [],
   "source": []
  },
  {
   "cell_type": "markdown",
   "id": "acf7cdc9",
   "metadata": {},
   "source": [
    "### Let's analyze whether Duration impacts on Price or not?"
   ]
  },
  {
   "cell_type": "code",
   "execution_count": 47,
   "id": "786f5393",
   "metadata": {},
   "outputs": [],
   "source": [
    "#firstly, let's get total duration in minutes using eval function\n",
    "\n",
    "data['Duration_total_minutes'] = data['Duration'].str.replace('h', '*60').str.replace(' ', '+').str.replace('m', '*1').apply(eval)"
   ]
  },
  {
   "cell_type": "code",
   "execution_count": 48,
   "id": "50c0ef65",
   "metadata": {},
   "outputs": [
    {
     "data": {
      "text/html": [
       "<div>\n",
       "<style scoped>\n",
       "    .dataframe tbody tr th:only-of-type {\n",
       "        vertical-align: middle;\n",
       "    }\n",
       "\n",
       "    .dataframe tbody tr th {\n",
       "        vertical-align: top;\n",
       "    }\n",
       "\n",
       "    .dataframe thead th {\n",
       "        text-align: right;\n",
       "    }\n",
       "</style>\n",
       "<table border=\"1\" class=\"dataframe\">\n",
       "  <thead>\n",
       "    <tr style=\"text-align: right;\">\n",
       "      <th></th>\n",
       "      <th>Airline</th>\n",
       "      <th>Source</th>\n",
       "      <th>Destination</th>\n",
       "      <th>Route</th>\n",
       "      <th>Duration</th>\n",
       "      <th>Total_Stops</th>\n",
       "      <th>Additional_Info</th>\n",
       "      <th>Price</th>\n",
       "      <th>Journey_day</th>\n",
       "      <th>Journey_month</th>\n",
       "      <th>Journey_year</th>\n",
       "      <th>Dep_Time_hour</th>\n",
       "      <th>Dep_Time_minute</th>\n",
       "      <th>Arrival_Time_hour</th>\n",
       "      <th>Arrival_Time_minute</th>\n",
       "      <th>Duration_hours</th>\n",
       "      <th>Duration_minutes</th>\n",
       "      <th>Duration_total_minutes</th>\n",
       "    </tr>\n",
       "  </thead>\n",
       "  <tbody>\n",
       "    <tr>\n",
       "      <th>0</th>\n",
       "      <td>IndiGo</td>\n",
       "      <td>Banglore</td>\n",
       "      <td>New Delhi</td>\n",
       "      <td>BLR → DEL</td>\n",
       "      <td>2h 50m</td>\n",
       "      <td>non-stop</td>\n",
       "      <td>No info</td>\n",
       "      <td>3897</td>\n",
       "      <td>24</td>\n",
       "      <td>3</td>\n",
       "      <td>2019</td>\n",
       "      <td>22</td>\n",
       "      <td>20</td>\n",
       "      <td>1</td>\n",
       "      <td>10</td>\n",
       "      <td>2</td>\n",
       "      <td>50</td>\n",
       "      <td>170</td>\n",
       "    </tr>\n",
       "    <tr>\n",
       "      <th>1</th>\n",
       "      <td>Air India</td>\n",
       "      <td>Kolkata</td>\n",
       "      <td>Banglore</td>\n",
       "      <td>CCU → IXR → BBI → BLR</td>\n",
       "      <td>7h 25m</td>\n",
       "      <td>2 stops</td>\n",
       "      <td>No info</td>\n",
       "      <td>7662</td>\n",
       "      <td>5</td>\n",
       "      <td>1</td>\n",
       "      <td>2019</td>\n",
       "      <td>5</td>\n",
       "      <td>50</td>\n",
       "      <td>13</td>\n",
       "      <td>15</td>\n",
       "      <td>7</td>\n",
       "      <td>25</td>\n",
       "      <td>445</td>\n",
       "    </tr>\n",
       "  </tbody>\n",
       "</table>\n",
       "</div>"
      ],
      "text/plain": [
       "     Airline    Source Destination                  Route Duration  \\\n",
       "0     IndiGo  Banglore   New Delhi              BLR → DEL   2h 50m   \n",
       "1  Air India   Kolkata    Banglore  CCU → IXR → BBI → BLR   7h 25m   \n",
       "\n",
       "  Total_Stops Additional_Info  Price  Journey_day  Journey_month  \\\n",
       "0    non-stop         No info   3897           24              3   \n",
       "1     2 stops         No info   7662            5              1   \n",
       "\n",
       "   Journey_year  Dep_Time_hour  Dep_Time_minute  Arrival_Time_hour  \\\n",
       "0          2019             22               20                  1   \n",
       "1          2019              5               50                 13   \n",
       "\n",
       "   Arrival_Time_minute  Duration_hours  Duration_minutes  \\\n",
       "0                   10               2                50   \n",
       "1                   15               7                25   \n",
       "\n",
       "   Duration_total_minutes  \n",
       "0                     170  \n",
       "1                     445  "
      ]
     },
     "execution_count": 48,
     "metadata": {},
     "output_type": "execute_result"
    }
   ],
   "source": [
    "data.head(2)"
   ]
  },
  {
   "cell_type": "code",
   "execution_count": 49,
   "id": "7cf8c3bb",
   "metadata": {},
   "outputs": [
    {
     "data": {
      "text/plain": [
       "<seaborn.axisgrid.FacetGrid at 0x1f3e1c85b50>"
      ]
     },
     "execution_count": 49,
     "metadata": {},
     "output_type": "execute_result"
    },
    {
     "data": {
      "image/png": "[encoded data removed]",
      "text/plain": [
       "<Figure size 360x360 with 1 Axes>"
      ]
     },
     "metadata": {
      "needs_background": "light"
     },
     "output_type": "display_data"
    }
   ],
   "source": [
    "#Now we will use lmplot() method to observe the impact of Duration on Price\n",
    "\n",
    "sns.lmplot(x='Duration_total_minutes', y='Price', data=data)"
   ]
  },
  {
   "cell_type": "markdown",
   "id": "bdfe28a9",
   "metadata": {},
   "source": [
    "We can see from the above plot that as the duration increases flight price also increases."
   ]
  },
  {
   "cell_type": "code",
   "execution_count": null,
   "id": "1b5faa1b",
   "metadata": {},
   "outputs": [],
   "source": []
  },
  {
   "cell_type": "code",
   "execution_count": null,
   "id": "30d31a21",
   "metadata": {},
   "outputs": [],
   "source": []
  },
  {
   "cell_type": "markdown",
   "id": "ccfd4798",
   "metadata": {},
   "source": [
    "### Let's find out which city has maximum final destination of flights"
   ]
  },
  {
   "cell_type": "code",
   "execution_count": 50,
   "id": "687509c5",
   "metadata": {},
   "outputs": [
    {
     "data": {
      "text/plain": [
       "array(['New Delhi', 'Banglore', 'Cochin', 'Kolkata', 'Delhi', 'Hyderabad'],\n",
       "      dtype=object)"
      ]
     },
     "execution_count": 50,
     "metadata": {},
     "output_type": "execute_result"
    }
   ],
   "source": [
    "data['Destination'].unique()"
   ]
  },
  {
   "cell_type": "code",
   "execution_count": 51,
   "id": "0acdc2f9",
   "metadata": {},
   "outputs": [
    {
     "data": {
      "text/plain": [
       "<AxesSubplot:ylabel='Destination'>"
      ]
     },
     "execution_count": 51,
     "metadata": {},
     "output_type": "execute_result"
    },
    {
     "data": {
      "image/png": "[encoded data removed]",
      "text/plain": [
       "<Figure size 432x288 with 1 Axes>"
      ]
     },
     "metadata": {},
     "output_type": "display_data"
    }
   ],
   "source": [
    "data['Destination'].value_counts().plot(kind='pie')"
   ]
  },
  {
   "cell_type": "markdown",
   "id": "8180aaf9",
   "metadata": {},
   "source": [
    "Final destination of majority of flights is Cochin.\n",
    "\n",
    "Also, there are two values for Delhi destination which we will correct as we go along."
   ]
  },
  {
   "cell_type": "code",
   "execution_count": null,
   "id": "36db2873",
   "metadata": {},
   "outputs": [],
   "source": []
  },
  {
   "cell_type": "code",
   "execution_count": null,
   "id": "33037711",
   "metadata": {},
   "outputs": [],
   "source": []
  },
  {
   "cell_type": "markdown",
   "id": "56839c9e",
   "metadata": {},
   "source": [
    "### Let's perform Exploratory Data  Analysis (Bivariate Analysis) to come up with some business insights  "
   ]
  },
  {
   "cell_type": "markdown",
   "id": "ecf17376",
   "metadata": {},
   "source": [
    "Problem statement --> On which route Jet Airways is extremely used?"
   ]
  },
  {
   "cell_type": "code",
   "execution_count": 52,
   "id": "9ecd532e",
   "metadata": {},
   "outputs": [
    {
     "data": {
      "text/plain": [
       "0                    BLR → DEL\n",
       "1        CCU → IXR → BBI → BLR\n",
       "2        DEL → LKO → BOM → COK\n",
       "3              CCU → NAG → BLR\n",
       "4              BLR → NAG → DEL\n",
       "                 ...          \n",
       "10678                CCU → BLR\n",
       "10679                CCU → BLR\n",
       "10680                BLR → DEL\n",
       "10681                BLR → DEL\n",
       "10682    DEL → GOI → BOM → COK\n",
       "Name: Route, Length: 10682, dtype: object"
      ]
     },
     "execution_count": 52,
     "metadata": {},
     "output_type": "execute_result"
    }
   ],
   "source": [
    "data['Route']"
   ]
  },
  {
   "cell_type": "code",
   "execution_count": 53,
   "id": "628a0aaa",
   "metadata": {},
   "outputs": [
    {
     "data": {
      "text/plain": [
       "Route\n",
       "CCU → BOM → BLR          930\n",
       "DEL → BOM → COK          875\n",
       "BLR → BOM → DEL          385\n",
       "BLR → DEL                382\n",
       "CCU → DEL → BLR          300\n",
       "BOM → HYD                207\n",
       "DEL → JAI → BOM → COK    207\n",
       "DEL → AMD → BOM → COK    141\n",
       "DEL → IDR → BOM → COK     86\n",
       "DEL → NAG → BOM → COK     61\n",
       "DEL → ATQ → BOM → COK     38\n",
       "DEL → COK                 34\n",
       "DEL → BHO → BOM → COK     29\n",
       "DEL → BDQ → BOM → COK     28\n",
       "DEL → LKO → BOM → COK     25\n",
       "DEL → JDH → BOM → COK     23\n",
       "CCU → GAU → BLR           22\n",
       "DEL → MAA → BOM → COK     16\n",
       "DEL → IXC → BOM → COK     13\n",
       "BLR → MAA → DEL           10\n",
       "BLR → BDQ → DEL            8\n",
       "DEL → UDR → BOM → COK      7\n",
       "BOM → DEL → HYD            5\n",
       "CCU → BOM → PNQ → BLR      4\n",
       "BLR → BOM → JDH → DEL      3\n",
       "DEL → DED → BOM → COK      2\n",
       "BOM → BDQ → DEL → HYD      2\n",
       "DEL → CCU → BOM → COK      1\n",
       "BOM → VNS → DEL → HYD      1\n",
       "BOM → UDR → DEL → HYD      1\n",
       "BOM → JDH → DEL → HYD      1\n",
       "BOM → IDR → DEL → HYD      1\n",
       "BOM → DED → DEL → HYD      1\n",
       "dtype: int64"
      ]
     },
     "execution_count": 53,
     "metadata": {},
     "output_type": "execute_result"
    }
   ],
   "source": [
    "data[data['Airline']=='Jet Airways'].groupby('Route').size().sort_values(ascending=False)"
   ]
  },
  {
   "cell_type": "markdown",
   "id": "6ad2c39e",
   "metadata": {},
   "source": [
    "Similarly, we can explore this for other airlines."
   ]
  },
  {
   "cell_type": "code",
   "execution_count": null,
   "id": "74390cfb",
   "metadata": {},
   "outputs": [],
   "source": []
  },
  {
   "cell_type": "markdown",
   "id": "a884adf4",
   "metadata": {},
   "source": [
    "### Airline vs Price Analysis "
   ]
  },
  {
   "cell_type": "markdown",
   "id": "ef307058",
   "metadata": {},
   "source": [
    "i.e. finding price distribution and 5-point summary of each Airline."
   ]
  },
  {
   "cell_type": "code",
   "execution_count": 54,
   "id": "42892dfc",
   "metadata": {},
   "outputs": [
    {
     "data": {
      "text/plain": [
       "(array([ 0,  1,  2,  3,  4,  5,  6,  7,  8,  9, 10, 11]),\n",
       " [Text(0, 0, 'IndiGo'),\n",
       "  Text(1, 0, 'Air India'),\n",
       "  Text(2, 0, 'Jet Airways'),\n",
       "  Text(3, 0, 'SpiceJet'),\n",
       "  Text(4, 0, 'Multiple carriers'),\n",
       "  Text(5, 0, 'GoAir'),\n",
       "  Text(6, 0, 'Vistara'),\n",
       "  Text(7, 0, 'Air Asia'),\n",
       "  Text(8, 0, 'Vistara Premium economy'),\n",
       "  Text(9, 0, 'Jet Airways Business'),\n",
       "  Text(10, 0, 'Multiple carriers Premium economy'),\n",
       "  Text(11, 0, 'Trujet')])"
      ]
     },
     "execution_count": 54,
     "metadata": {},
     "output_type": "execute_result"
    },
    {
     "data": {
      "image/png": "[encoded data removed]",
      "text/plain": [
       "<Figure size 1296x432 with 1 Axes>"
      ]
     },
     "metadata": {
      "needs_background": "light"
     },
     "output_type": "display_data"
    }
   ],
   "source": [
    "plt.figure(figsize=(18,6))\n",
    "plt.rcParams['font.size']=15\n",
    "sns.boxplot(x='Airline', y='Price', data=data)\n",
    "plt.xticks(rotation='vertical')"
   ]
  },
  {
   "cell_type": "markdown",
   "id": "20d88c00",
   "metadata": {},
   "source": [
    "Conclusion: From the above plot we can see that Jet Airways Business airline has the highest price."
   ]
  },
  {
   "cell_type": "code",
   "execution_count": null,
   "id": "95a154ef",
   "metadata": {},
   "outputs": [],
   "source": []
  },
  {
   "cell_type": "code",
   "execution_count": 55,
   "id": "4216ed53",
   "metadata": {},
   "outputs": [],
   "source": [
    "#when we need boxplot and distribution both, its good to consider violinplot."
   ]
  },
  {
   "cell_type": "code",
   "execution_count": 56,
   "id": "e3bf6303",
   "metadata": {},
   "outputs": [
    {
     "data": {
      "text/plain": [
       "(array([ 0,  1,  2,  3,  4,  5,  6,  7,  8,  9, 10, 11]),\n",
       " [Text(0, 0, 'IndiGo'),\n",
       "  Text(1, 0, 'Air India'),\n",
       "  Text(2, 0, 'Jet Airways'),\n",
       "  Text(3, 0, 'SpiceJet'),\n",
       "  Text(4, 0, 'Multiple carriers'),\n",
       "  Text(5, 0, 'GoAir'),\n",
       "  Text(6, 0, 'Vistara'),\n",
       "  Text(7, 0, 'Air Asia'),\n",
       "  Text(8, 0, 'Vistara Premium economy'),\n",
       "  Text(9, 0, 'Jet Airways Business'),\n",
       "  Text(10, 0, 'Multiple carriers Premium economy'),\n",
       "  Text(11, 0, 'Trujet')])"
      ]
     },
     "execution_count": 56,
     "metadata": {},
     "output_type": "execute_result"
    },
    {
     "data": {
      "image/png": "[encoded data removed]",
      "text/plain": [
       "<Figure size 1296x432 with 1 Axes>"
      ]
     },
     "metadata": {
      "needs_background": "light"
     },
     "output_type": "display_data"
    }
   ],
   "source": [
    "plt.figure(figsize=(18,6))\n",
    "plt.rcParams['font.size']=12\n",
    "sns.violinplot(x='Airline', y='Price', data=data)\n",
    "plt.xticks(rotation='vertical')"
   ]
  },
  {
   "cell_type": "code",
   "execution_count": null,
   "id": "5b23f743",
   "metadata": {},
   "outputs": [],
   "source": []
  },
  {
   "cell_type": "code",
   "execution_count": null,
   "id": "3144684e",
   "metadata": {},
   "outputs": [],
   "source": []
  },
  {
   "cell_type": "markdown",
   "id": "459e45d8",
   "metadata": {},
   "source": [
    "### Now let's perform Feature-encoding on data"
   ]
  },
  {
   "cell_type": "code",
   "execution_count": 57,
   "id": "fa678f8e",
   "metadata": {},
   "outputs": [
    {
     "data": {
      "text/html": [
       "<div>\n",
       "<style scoped>\n",
       "    .dataframe tbody tr th:only-of-type {\n",
       "        vertical-align: middle;\n",
       "    }\n",
       "\n",
       "    .dataframe tbody tr th {\n",
       "        vertical-align: top;\n",
       "    }\n",
       "\n",
       "    .dataframe thead th {\n",
       "        text-align: right;\n",
       "    }\n",
       "</style>\n",
       "<table border=\"1\" class=\"dataframe\">\n",
       "  <thead>\n",
       "    <tr style=\"text-align: right;\">\n",
       "      <th></th>\n",
       "      <th>Airline</th>\n",
       "      <th>Source</th>\n",
       "      <th>Destination</th>\n",
       "      <th>Route</th>\n",
       "      <th>Duration</th>\n",
       "      <th>Total_Stops</th>\n",
       "      <th>Additional_Info</th>\n",
       "      <th>Price</th>\n",
       "      <th>Journey_day</th>\n",
       "      <th>Journey_month</th>\n",
       "      <th>Journey_year</th>\n",
       "      <th>Dep_Time_hour</th>\n",
       "      <th>Dep_Time_minute</th>\n",
       "      <th>Arrival_Time_hour</th>\n",
       "      <th>Arrival_Time_minute</th>\n",
       "      <th>Duration_hours</th>\n",
       "      <th>Duration_minutes</th>\n",
       "      <th>Duration_total_minutes</th>\n",
       "    </tr>\n",
       "  </thead>\n",
       "  <tbody>\n",
       "    <tr>\n",
       "      <th>0</th>\n",
       "      <td>IndiGo</td>\n",
       "      <td>Banglore</td>\n",
       "      <td>New Delhi</td>\n",
       "      <td>BLR → DEL</td>\n",
       "      <td>2h 50m</td>\n",
       "      <td>non-stop</td>\n",
       "      <td>No info</td>\n",
       "      <td>3897</td>\n",
       "      <td>24</td>\n",
       "      <td>3</td>\n",
       "      <td>2019</td>\n",
       "      <td>22</td>\n",
       "      <td>20</td>\n",
       "      <td>1</td>\n",
       "      <td>10</td>\n",
       "      <td>2</td>\n",
       "      <td>50</td>\n",
       "      <td>170</td>\n",
       "    </tr>\n",
       "    <tr>\n",
       "      <th>1</th>\n",
       "      <td>Air India</td>\n",
       "      <td>Kolkata</td>\n",
       "      <td>Banglore</td>\n",
       "      <td>CCU → IXR → BBI → BLR</td>\n",
       "      <td>7h 25m</td>\n",
       "      <td>2 stops</td>\n",
       "      <td>No info</td>\n",
       "      <td>7662</td>\n",
       "      <td>5</td>\n",
       "      <td>1</td>\n",
       "      <td>2019</td>\n",
       "      <td>5</td>\n",
       "      <td>50</td>\n",
       "      <td>13</td>\n",
       "      <td>15</td>\n",
       "      <td>7</td>\n",
       "      <td>25</td>\n",
       "      <td>445</td>\n",
       "    </tr>\n",
       "  </tbody>\n",
       "</table>\n",
       "</div>"
      ],
      "text/plain": [
       "     Airline    Source Destination                  Route Duration  \\\n",
       "0     IndiGo  Banglore   New Delhi              BLR → DEL   2h 50m   \n",
       "1  Air India   Kolkata    Banglore  CCU → IXR → BBI → BLR   7h 25m   \n",
       "\n",
       "  Total_Stops Additional_Info  Price  Journey_day  Journey_month  \\\n",
       "0    non-stop         No info   3897           24              3   \n",
       "1     2 stops         No info   7662            5              1   \n",
       "\n",
       "   Journey_year  Dep_Time_hour  Dep_Time_minute  Arrival_Time_hour  \\\n",
       "0          2019             22               20                  1   \n",
       "1          2019              5               50                 13   \n",
       "\n",
       "   Arrival_Time_minute  Duration_hours  Duration_minutes  \\\n",
       "0                   10               2                50   \n",
       "1                   15               7                25   \n",
       "\n",
       "   Duration_total_minutes  \n",
       "0                     170  \n",
       "1                     445  "
      ]
     },
     "execution_count": 57,
     "metadata": {},
     "output_type": "execute_result"
    }
   ],
   "source": [
    "data.head(2)"
   ]
  },
  {
   "cell_type": "code",
   "execution_count": 58,
   "id": "3a0033e0",
   "metadata": {},
   "outputs": [],
   "source": [
    "#firstly, let's remove unnecessary features from data"
   ]
  },
  {
   "cell_type": "code",
   "execution_count": 59,
   "id": "22bc5779",
   "metadata": {},
   "outputs": [
    {
     "data": {
      "text/plain": [
       "No info                         78.11\n",
       "In-flight meal not included     18.55\n",
       "No check-in baggage included     3.00\n",
       "1 Long layover                   0.18\n",
       "Change airports                  0.07\n",
       "Business class                   0.04\n",
       "No Info                          0.03\n",
       "2 Long layover                   0.01\n",
       "Red-eye flight                   0.01\n",
       "1 Short layover                  0.01\n",
       "Name: Additional_Info, dtype: float64"
      ]
     },
     "execution_count": 59,
     "metadata": {},
     "output_type": "execute_result"
    }
   ],
   "source": [
    "np.round(data['Additional_Info'].value_counts()/len(data)*100, 2)"
   ]
  },
  {
   "cell_type": "code",
   "execution_count": 60,
   "id": "392b6ea5",
   "metadata": {},
   "outputs": [],
   "source": [
    "#Additional_Info contains almost 80% no_info, so we can drop this column.\n",
    "#We can drop Route column also as Total_stops provides us with no. of stops, so Route info is not required.\n",
    "#Let's drop Duration_total_minutes as we have already extracted Duration_hour and Duration_minutes.\n",
    "\n",
    "data.drop(columns=['Additional_Info', 'Route', 'Duration_total_minutes', 'Journey_year'], axis=1,inplace= True)"
   ]
  },
  {
   "cell_type": "code",
   "execution_count": 61,
   "id": "f43065f5",
   "metadata": {},
   "outputs": [
    {
     "data": {
      "text/plain": [
       "Index(['Airline', 'Source', 'Destination', 'Duration', 'Total_Stops', 'Price',\n",
       "       'Journey_day', 'Journey_month', 'Dep_Time_hour', 'Dep_Time_minute',\n",
       "       'Arrival_Time_hour', 'Arrival_Time_minute', 'Duration_hours',\n",
       "       'Duration_minutes'],\n",
       "      dtype='object')"
      ]
     },
     "execution_count": 61,
     "metadata": {},
     "output_type": "execute_result"
    }
   ],
   "source": [
    "data.columns"
   ]
  },
  {
   "cell_type": "code",
   "execution_count": 62,
   "id": "47319fe0",
   "metadata": {},
   "outputs": [
    {
     "data": {
      "text/html": [
       "<div>\n",
       "<style scoped>\n",
       "    .dataframe tbody tr th:only-of-type {\n",
       "        vertical-align: middle;\n",
       "    }\n",
       "\n",
       "    .dataframe tbody tr th {\n",
       "        vertical-align: top;\n",
       "    }\n",
       "\n",
       "    .dataframe thead th {\n",
       "        text-align: right;\n",
       "    }\n",
       "</style>\n",
       "<table border=\"1\" class=\"dataframe\">\n",
       "  <thead>\n",
       "    <tr style=\"text-align: right;\">\n",
       "      <th></th>\n",
       "      <th>Airline</th>\n",
       "      <th>Source</th>\n",
       "      <th>Destination</th>\n",
       "      <th>Duration</th>\n",
       "      <th>Total_Stops</th>\n",
       "      <th>Price</th>\n",
       "      <th>Journey_day</th>\n",
       "      <th>Journey_month</th>\n",
       "      <th>Dep_Time_hour</th>\n",
       "      <th>Dep_Time_minute</th>\n",
       "      <th>Arrival_Time_hour</th>\n",
       "      <th>Arrival_Time_minute</th>\n",
       "      <th>Duration_hours</th>\n",
       "      <th>Duration_minutes</th>\n",
       "    </tr>\n",
       "  </thead>\n",
       "  <tbody>\n",
       "    <tr>\n",
       "      <th>0</th>\n",
       "      <td>IndiGo</td>\n",
       "      <td>Banglore</td>\n",
       "      <td>New Delhi</td>\n",
       "      <td>2h 50m</td>\n",
       "      <td>non-stop</td>\n",
       "      <td>3897</td>\n",
       "      <td>24</td>\n",
       "      <td>3</td>\n",
       "      <td>22</td>\n",
       "      <td>20</td>\n",
       "      <td>1</td>\n",
       "      <td>10</td>\n",
       "      <td>2</td>\n",
       "      <td>50</td>\n",
       "    </tr>\n",
       "    <tr>\n",
       "      <th>1</th>\n",
       "      <td>Air India</td>\n",
       "      <td>Kolkata</td>\n",
       "      <td>Banglore</td>\n",
       "      <td>7h 25m</td>\n",
       "      <td>2 stops</td>\n",
       "      <td>7662</td>\n",
       "      <td>5</td>\n",
       "      <td>1</td>\n",
       "      <td>5</td>\n",
       "      <td>50</td>\n",
       "      <td>13</td>\n",
       "      <td>15</td>\n",
       "      <td>7</td>\n",
       "      <td>25</td>\n",
       "    </tr>\n",
       "    <tr>\n",
       "      <th>2</th>\n",
       "      <td>Jet Airways</td>\n",
       "      <td>Delhi</td>\n",
       "      <td>Cochin</td>\n",
       "      <td>19h 0m</td>\n",
       "      <td>2 stops</td>\n",
       "      <td>13882</td>\n",
       "      <td>6</td>\n",
       "      <td>9</td>\n",
       "      <td>9</td>\n",
       "      <td>25</td>\n",
       "      <td>4</td>\n",
       "      <td>25</td>\n",
       "      <td>19</td>\n",
       "      <td>0</td>\n",
       "    </tr>\n",
       "    <tr>\n",
       "      <th>3</th>\n",
       "      <td>IndiGo</td>\n",
       "      <td>Kolkata</td>\n",
       "      <td>Banglore</td>\n",
       "      <td>5h 25m</td>\n",
       "      <td>1 stop</td>\n",
       "      <td>6218</td>\n",
       "      <td>5</td>\n",
       "      <td>12</td>\n",
       "      <td>18</td>\n",
       "      <td>5</td>\n",
       "      <td>23</td>\n",
       "      <td>30</td>\n",
       "      <td>5</td>\n",
       "      <td>25</td>\n",
       "    </tr>\n",
       "  </tbody>\n",
       "</table>\n",
       "</div>"
      ],
      "text/plain": [
       "       Airline    Source Destination Duration Total_Stops  Price  Journey_day  \\\n",
       "0       IndiGo  Banglore   New Delhi   2h 50m    non-stop   3897           24   \n",
       "1    Air India   Kolkata    Banglore   7h 25m     2 stops   7662            5   \n",
       "2  Jet Airways     Delhi      Cochin   19h 0m     2 stops  13882            6   \n",
       "3       IndiGo   Kolkata    Banglore   5h 25m      1 stop   6218            5   \n",
       "\n",
       "   Journey_month  Dep_Time_hour  Dep_Time_minute  Arrival_Time_hour  \\\n",
       "0              3             22               20                  1   \n",
       "1              1              5               50                 13   \n",
       "2              9              9               25                  4   \n",
       "3             12             18                5                 23   \n",
       "\n",
       "   Arrival_Time_minute  Duration_hours  Duration_minutes  \n",
       "0                   10               2                50  \n",
       "1                   15               7                25  \n",
       "2                   25              19                 0  \n",
       "3                   30               5                25  "
      ]
     },
     "execution_count": 62,
     "metadata": {},
     "output_type": "execute_result"
    }
   ],
   "source": [
    "data.head(4)"
   ]
  },
  {
   "cell_type": "code",
   "execution_count": null,
   "id": "cce3aafa",
   "metadata": {},
   "outputs": [],
   "source": []
  },
  {
   "cell_type": "code",
   "execution_count": null,
   "id": "8f7b231f",
   "metadata": {},
   "outputs": [],
   "source": []
  },
  {
   "cell_type": "markdown",
   "id": "dbbde6ee",
   "metadata": {},
   "source": [
    "### Let's separate categorical data and numerical data "
   ]
  },
  {
   "cell_type": "markdown",
   "id": "601dab76",
   "metadata": {},
   "source": [
    "Categorical data are those whose data-type is 'object'.\n",
    "\n",
    "Numerical data are those whose data-type is either int or float."
   ]
  },
  {
   "cell_type": "code",
   "execution_count": 63,
   "id": "04339e97",
   "metadata": {},
   "outputs": [],
   "source": [
    "cat_col = [col for col in data.columns if data[col].dtypes=='object']"
   ]
  },
  {
   "cell_type": "code",
   "execution_count": 64,
   "id": "b15a5791",
   "metadata": {},
   "outputs": [],
   "source": [
    "num_col = [col for col in data.columns if data[col].dtypes!='object']"
   ]
  },
  {
   "cell_type": "code",
   "execution_count": 65,
   "id": "d8a4e390",
   "metadata": {},
   "outputs": [
    {
     "data": {
      "text/plain": [
       "['Airline', 'Source', 'Destination', 'Duration', 'Total_Stops']"
      ]
     },
     "execution_count": 65,
     "metadata": {},
     "output_type": "execute_result"
    }
   ],
   "source": [
    "cat_col"
   ]
  },
  {
   "cell_type": "code",
   "execution_count": 66,
   "id": "74b15d48",
   "metadata": {},
   "outputs": [
    {
     "data": {
      "text/plain": [
       "['Price',\n",
       " 'Journey_day',\n",
       " 'Journey_month',\n",
       " 'Dep_Time_hour',\n",
       " 'Dep_Time_minute',\n",
       " 'Arrival_Time_hour',\n",
       " 'Arrival_Time_minute',\n",
       " 'Duration_hours',\n",
       " 'Duration_minutes']"
      ]
     },
     "execution_count": 66,
     "metadata": {},
     "output_type": "execute_result"
    }
   ],
   "source": [
    "num_col"
   ]
  },
  {
   "cell_type": "code",
   "execution_count": null,
   "id": "ca6d2b75",
   "metadata": {},
   "outputs": [],
   "source": []
  },
  {
   "cell_type": "markdown",
   "id": "6a459e95",
   "metadata": {},
   "source": [
    "### Handling Categorical data "
   ]
  },
  {
   "cell_type": "markdown",
   "id": "d97aee49",
   "metadata": {},
   "source": [
    "    We will be using 2 basic encoding techniques to convert categorical data to some numerical format.\n",
    "    If data belongs to Nominal data (i.e. data is not in any order), then we will use one-hot encoder in this case.\n",
    "    If data belongs to Ordinal data (i.e. data is in order), then we will use label encoder in this case.\n",
    "    \n",
    "    But in real world, it is not necessary that we always use one-hot or label."
   ]
  },
  {
   "cell_type": "markdown",
   "id": "4ac8a5e2",
   "metadata": {},
   "source": [
    "### Let's apply one-hot encoding on 'Source' feature "
   ]
  },
  {
   "cell_type": "code",
   "execution_count": 67,
   "id": "f6eacd21",
   "metadata": {},
   "outputs": [],
   "source": [
    "# One-hot from scratch:"
   ]
  },
  {
   "cell_type": "code",
   "execution_count": 68,
   "id": "9bff9931",
   "metadata": {},
   "outputs": [
    {
     "data": {
      "text/plain": [
       "array(['Banglore', 'Kolkata', 'Delhi', 'Chennai', 'Mumbai'], dtype=object)"
      ]
     },
     "execution_count": 68,
     "metadata": {},
     "output_type": "execute_result"
    }
   ],
   "source": [
    "data['Source'].unique()"
   ]
  },
  {
   "cell_type": "code",
   "execution_count": 69,
   "id": "55ab06fb",
   "metadata": {},
   "outputs": [
    {
     "data": {
      "text/plain": [
       "0        1\n",
       "1        0\n",
       "2        0\n",
       "3        0\n",
       "4        1\n",
       "        ..\n",
       "10678    0\n",
       "10679    0\n",
       "10680    1\n",
       "10681    1\n",
       "10682    0\n",
       "Name: Source, Length: 10682, dtype: int64"
      ]
     },
     "execution_count": 69,
     "metadata": {},
     "output_type": "execute_result"
    }
   ],
   "source": [
    "data['Source'].apply(lambda x: 1 if x=='Banglore' else 0)"
   ]
  },
  {
   "cell_type": "code",
   "execution_count": 70,
   "id": "21991611",
   "metadata": {},
   "outputs": [],
   "source": [
    "for category in data['Source'].unique():\n",
    "    data['Source_'+category] = data['Source'].apply(lambda x: 1 if x==category else 0)"
   ]
  },
  {
   "cell_type": "code",
   "execution_count": 71,
   "id": "2e861a5d",
   "metadata": {},
   "outputs": [
    {
     "data": {
      "text/html": [
       "<div>\n",
       "<style scoped>\n",
       "    .dataframe tbody tr th:only-of-type {\n",
       "        vertical-align: middle;\n",
       "    }\n",
       "\n",
       "    .dataframe tbody tr th {\n",
       "        vertical-align: top;\n",
       "    }\n",
       "\n",
       "    .dataframe thead th {\n",
       "        text-align: right;\n",
       "    }\n",
       "</style>\n",
       "<table border=\"1\" class=\"dataframe\">\n",
       "  <thead>\n",
       "    <tr style=\"text-align: right;\">\n",
       "      <th></th>\n",
       "      <th>Airline</th>\n",
       "      <th>Source</th>\n",
       "      <th>Destination</th>\n",
       "      <th>Duration</th>\n",
       "      <th>Total_Stops</th>\n",
       "      <th>Price</th>\n",
       "      <th>Journey_day</th>\n",
       "      <th>Journey_month</th>\n",
       "      <th>Dep_Time_hour</th>\n",
       "      <th>Dep_Time_minute</th>\n",
       "      <th>Arrival_Time_hour</th>\n",
       "      <th>Arrival_Time_minute</th>\n",
       "      <th>Duration_hours</th>\n",
       "      <th>Duration_minutes</th>\n",
       "      <th>Source_Banglore</th>\n",
       "      <th>Source_Kolkata</th>\n",
       "      <th>Source_Delhi</th>\n",
       "      <th>Source_Chennai</th>\n",
       "      <th>Source_Mumbai</th>\n",
       "    </tr>\n",
       "  </thead>\n",
       "  <tbody>\n",
       "    <tr>\n",
       "      <th>0</th>\n",
       "      <td>IndiGo</td>\n",
       "      <td>Banglore</td>\n",
       "      <td>New Delhi</td>\n",
       "      <td>2h 50m</td>\n",
       "      <td>non-stop</td>\n",
       "      <td>3897</td>\n",
       "      <td>24</td>\n",
       "      <td>3</td>\n",
       "      <td>22</td>\n",
       "      <td>20</td>\n",
       "      <td>1</td>\n",
       "      <td>10</td>\n",
       "      <td>2</td>\n",
       "      <td>50</td>\n",
       "      <td>1</td>\n",
       "      <td>0</td>\n",
       "      <td>0</td>\n",
       "      <td>0</td>\n",
       "      <td>0</td>\n",
       "    </tr>\n",
       "    <tr>\n",
       "      <th>1</th>\n",
       "      <td>Air India</td>\n",
       "      <td>Kolkata</td>\n",
       "      <td>Banglore</td>\n",
       "      <td>7h 25m</td>\n",
       "      <td>2 stops</td>\n",
       "      <td>7662</td>\n",
       "      <td>5</td>\n",
       "      <td>1</td>\n",
       "      <td>5</td>\n",
       "      <td>50</td>\n",
       "      <td>13</td>\n",
       "      <td>15</td>\n",
       "      <td>7</td>\n",
       "      <td>25</td>\n",
       "      <td>0</td>\n",
       "      <td>1</td>\n",
       "      <td>0</td>\n",
       "      <td>0</td>\n",
       "      <td>0</td>\n",
       "    </tr>\n",
       "    <tr>\n",
       "      <th>2</th>\n",
       "      <td>Jet Airways</td>\n",
       "      <td>Delhi</td>\n",
       "      <td>Cochin</td>\n",
       "      <td>19h 0m</td>\n",
       "      <td>2 stops</td>\n",
       "      <td>13882</td>\n",
       "      <td>6</td>\n",
       "      <td>9</td>\n",
       "      <td>9</td>\n",
       "      <td>25</td>\n",
       "      <td>4</td>\n",
       "      <td>25</td>\n",
       "      <td>19</td>\n",
       "      <td>0</td>\n",
       "      <td>0</td>\n",
       "      <td>0</td>\n",
       "      <td>1</td>\n",
       "      <td>0</td>\n",
       "      <td>0</td>\n",
       "    </tr>\n",
       "    <tr>\n",
       "      <th>3</th>\n",
       "      <td>IndiGo</td>\n",
       "      <td>Kolkata</td>\n",
       "      <td>Banglore</td>\n",
       "      <td>5h 25m</td>\n",
       "      <td>1 stop</td>\n",
       "      <td>6218</td>\n",
       "      <td>5</td>\n",
       "      <td>12</td>\n",
       "      <td>18</td>\n",
       "      <td>5</td>\n",
       "      <td>23</td>\n",
       "      <td>30</td>\n",
       "      <td>5</td>\n",
       "      <td>25</td>\n",
       "      <td>0</td>\n",
       "      <td>1</td>\n",
       "      <td>0</td>\n",
       "      <td>0</td>\n",
       "      <td>0</td>\n",
       "    </tr>\n",
       "  </tbody>\n",
       "</table>\n",
       "</div>"
      ],
      "text/plain": [
       "       Airline    Source Destination Duration Total_Stops  Price  Journey_day  \\\n",
       "0       IndiGo  Banglore   New Delhi   2h 50m    non-stop   3897           24   \n",
       "1    Air India   Kolkata    Banglore   7h 25m     2 stops   7662            5   \n",
       "2  Jet Airways     Delhi      Cochin   19h 0m     2 stops  13882            6   \n",
       "3       IndiGo   Kolkata    Banglore   5h 25m      1 stop   6218            5   \n",
       "\n",
       "   Journey_month  Dep_Time_hour  Dep_Time_minute  Arrival_Time_hour  \\\n",
       "0              3             22               20                  1   \n",
       "1              1              5               50                 13   \n",
       "2              9              9               25                  4   \n",
       "3             12             18                5                 23   \n",
       "\n",
       "   Arrival_Time_minute  Duration_hours  Duration_minutes  Source_Banglore  \\\n",
       "0                   10               2                50                1   \n",
       "1                   15               7                25                0   \n",
       "2                   25              19                 0                0   \n",
       "3                   30               5                25                0   \n",
       "\n",
       "   Source_Kolkata  Source_Delhi  Source_Chennai  Source_Mumbai  \n",
       "0               0             0               0              0  \n",
       "1               1             0               0              0  \n",
       "2               0             1               0              0  \n",
       "3               1             0               0              0  "
      ]
     },
     "execution_count": 71,
     "metadata": {},
     "output_type": "execute_result"
    }
   ],
   "source": [
    "data.head(4)"
   ]
  },
  {
   "cell_type": "code",
   "execution_count": null,
   "id": "a4198b12",
   "metadata": {},
   "outputs": [],
   "source": []
  },
  {
   "cell_type": "code",
   "execution_count": null,
   "id": "2414adc5",
   "metadata": {},
   "outputs": [],
   "source": []
  },
  {
   "cell_type": "markdown",
   "id": "de3c66ce",
   "metadata": {},
   "source": [
    "### Performing Target Guided Mean Encoding "
   ]
  },
  {
   "cell_type": "markdown",
   "id": "41054765",
   "metadata": {},
   "source": [
    "Again we can use one-hot encoding, but if we have lots of sub-categories, then it creates curse of dimensionality  in ML.\n",
    "\n",
    "To overcome this, we will use Target Guided Encoding."
   ]
  },
  {
   "cell_type": "code",
   "execution_count": 72,
   "id": "66cb22ec",
   "metadata": {},
   "outputs": [],
   "source": [
    "airlines = data.groupby(['Airline'])['Price'].mean().sort_values().index"
   ]
  },
  {
   "cell_type": "code",
   "execution_count": 73,
   "id": "a5c07482",
   "metadata": {},
   "outputs": [
    {
     "data": {
      "text/plain": [
       "Index(['Trujet', 'SpiceJet', 'Air Asia', 'IndiGo', 'GoAir', 'Vistara',\n",
       "       'Vistara Premium economy', 'Air India', 'Multiple carriers',\n",
       "       'Multiple carriers Premium economy', 'Jet Airways',\n",
       "       'Jet Airways Business'],\n",
       "      dtype='object', name='Airline')"
      ]
     },
     "execution_count": 73,
     "metadata": {},
     "output_type": "execute_result"
    }
   ],
   "source": [
    "airlines"
   ]
  },
  {
   "cell_type": "code",
   "execution_count": 74,
   "id": "b556b88f",
   "metadata": {},
   "outputs": [],
   "source": [
    "dict1 = {key:index for index,key in enumerate(airlines,0)}"
   ]
  },
  {
   "cell_type": "code",
   "execution_count": 75,
   "id": "bfc9c603",
   "metadata": {},
   "outputs": [
    {
     "data": {
      "text/plain": [
       "{'Trujet': 0,\n",
       " 'SpiceJet': 1,\n",
       " 'Air Asia': 2,\n",
       " 'IndiGo': 3,\n",
       " 'GoAir': 4,\n",
       " 'Vistara': 5,\n",
       " 'Vistara Premium economy': 6,\n",
       " 'Air India': 7,\n",
       " 'Multiple carriers': 8,\n",
       " 'Multiple carriers Premium economy': 9,\n",
       " 'Jet Airways': 10,\n",
       " 'Jet Airways Business': 11}"
      ]
     },
     "execution_count": 75,
     "metadata": {},
     "output_type": "execute_result"
    }
   ],
   "source": [
    "dict1"
   ]
  },
  {
   "cell_type": "code",
   "execution_count": 76,
   "id": "4efe1a36",
   "metadata": {},
   "outputs": [],
   "source": [
    "data['Airline']=data['Airline'].map(dict1)"
   ]
  },
  {
   "cell_type": "code",
   "execution_count": 77,
   "id": "bfbc0e04",
   "metadata": {},
   "outputs": [
    {
     "data": {
      "text/plain": [
       "0         3\n",
       "1         7\n",
       "2        10\n",
       "3         3\n",
       "4         3\n",
       "         ..\n",
       "10678     2\n",
       "10679     7\n",
       "10680    10\n",
       "10681     5\n",
       "10682     7\n",
       "Name: Airline, Length: 10682, dtype: int64"
      ]
     },
     "execution_count": 77,
     "metadata": {},
     "output_type": "execute_result"
    }
   ],
   "source": [
    "data['Airline']"
   ]
  },
  {
   "cell_type": "code",
   "execution_count": 78,
   "id": "27148972",
   "metadata": {},
   "outputs": [
    {
     "data": {
      "text/html": [
       "<div>\n",
       "<style scoped>\n",
       "    .dataframe tbody tr th:only-of-type {\n",
       "        vertical-align: middle;\n",
       "    }\n",
       "\n",
       "    .dataframe tbody tr th {\n",
       "        vertical-align: top;\n",
       "    }\n",
       "\n",
       "    .dataframe thead th {\n",
       "        text-align: right;\n",
       "    }\n",
       "</style>\n",
       "<table border=\"1\" class=\"dataframe\">\n",
       "  <thead>\n",
       "    <tr style=\"text-align: right;\">\n",
       "      <th></th>\n",
       "      <th>Airline</th>\n",
       "      <th>Source</th>\n",
       "      <th>Destination</th>\n",
       "      <th>Duration</th>\n",
       "      <th>Total_Stops</th>\n",
       "      <th>Price</th>\n",
       "      <th>Journey_day</th>\n",
       "      <th>Journey_month</th>\n",
       "      <th>Dep_Time_hour</th>\n",
       "      <th>Dep_Time_minute</th>\n",
       "      <th>Arrival_Time_hour</th>\n",
       "      <th>Arrival_Time_minute</th>\n",
       "      <th>Duration_hours</th>\n",
       "      <th>Duration_minutes</th>\n",
       "      <th>Source_Banglore</th>\n",
       "      <th>Source_Kolkata</th>\n",
       "      <th>Source_Delhi</th>\n",
       "      <th>Source_Chennai</th>\n",
       "      <th>Source_Mumbai</th>\n",
       "    </tr>\n",
       "  </thead>\n",
       "  <tbody>\n",
       "    <tr>\n",
       "      <th>0</th>\n",
       "      <td>3</td>\n",
       "      <td>Banglore</td>\n",
       "      <td>New Delhi</td>\n",
       "      <td>2h 50m</td>\n",
       "      <td>non-stop</td>\n",
       "      <td>3897</td>\n",
       "      <td>24</td>\n",
       "      <td>3</td>\n",
       "      <td>22</td>\n",
       "      <td>20</td>\n",
       "      <td>1</td>\n",
       "      <td>10</td>\n",
       "      <td>2</td>\n",
       "      <td>50</td>\n",
       "      <td>1</td>\n",
       "      <td>0</td>\n",
       "      <td>0</td>\n",
       "      <td>0</td>\n",
       "      <td>0</td>\n",
       "    </tr>\n",
       "    <tr>\n",
       "      <th>1</th>\n",
       "      <td>7</td>\n",
       "      <td>Kolkata</td>\n",
       "      <td>Banglore</td>\n",
       "      <td>7h 25m</td>\n",
       "      <td>2 stops</td>\n",
       "      <td>7662</td>\n",
       "      <td>5</td>\n",
       "      <td>1</td>\n",
       "      <td>5</td>\n",
       "      <td>50</td>\n",
       "      <td>13</td>\n",
       "      <td>15</td>\n",
       "      <td>7</td>\n",
       "      <td>25</td>\n",
       "      <td>0</td>\n",
       "      <td>1</td>\n",
       "      <td>0</td>\n",
       "      <td>0</td>\n",
       "      <td>0</td>\n",
       "    </tr>\n",
       "  </tbody>\n",
       "</table>\n",
       "</div>"
      ],
      "text/plain": [
       "   Airline    Source Destination Duration Total_Stops  Price  Journey_day  \\\n",
       "0        3  Banglore   New Delhi   2h 50m    non-stop   3897           24   \n",
       "1        7   Kolkata    Banglore   7h 25m     2 stops   7662            5   \n",
       "\n",
       "   Journey_month  Dep_Time_hour  Dep_Time_minute  Arrival_Time_hour  \\\n",
       "0              3             22               20                  1   \n",
       "1              1              5               50                 13   \n",
       "\n",
       "   Arrival_Time_minute  Duration_hours  Duration_minutes  Source_Banglore  \\\n",
       "0                   10               2                50                1   \n",
       "1                   15               7                25                0   \n",
       "\n",
       "   Source_Kolkata  Source_Delhi  Source_Chennai  Source_Mumbai  \n",
       "0               0             0               0              0  \n",
       "1               1             0               0              0  "
      ]
     },
     "execution_count": 78,
     "metadata": {},
     "output_type": "execute_result"
    }
   ],
   "source": [
    "data.head(2)"
   ]
  },
  {
   "cell_type": "code",
   "execution_count": null,
   "id": "3c7c42e3",
   "metadata": {},
   "outputs": [],
   "source": []
  },
  {
   "cell_type": "code",
   "execution_count": 79,
   "id": "a3ffccd3",
   "metadata": {},
   "outputs": [
    {
     "data": {
      "text/plain": [
       "array(['New Delhi', 'Banglore', 'Cochin', 'Kolkata', 'Delhi', 'Hyderabad'],\n",
       "      dtype=object)"
      ]
     },
     "execution_count": 79,
     "metadata": {},
     "output_type": "execute_result"
    }
   ],
   "source": [
    "data['Destination'].unique()"
   ]
  },
  {
   "cell_type": "markdown",
   "id": "f253336a",
   "metadata": {},
   "source": [
    "As we know, till now Delhi has only one airport, so we will consider Delhi and New Delhi as same."
   ]
  },
  {
   "cell_type": "code",
   "execution_count": 80,
   "id": "f30ec317",
   "metadata": {},
   "outputs": [],
   "source": [
    "data['Destination'].replace('New Delhi', 'Delhi', inplace=True)"
   ]
  },
  {
   "cell_type": "code",
   "execution_count": 81,
   "id": "5743c354",
   "metadata": {},
   "outputs": [
    {
     "data": {
      "text/plain": [
       "array(['Delhi', 'Banglore', 'Cochin', 'Kolkata', 'Hyderabad'],\n",
       "      dtype=object)"
      ]
     },
     "execution_count": 81,
     "metadata": {},
     "output_type": "execute_result"
    }
   ],
   "source": [
    "data['Destination'].unique()"
   ]
  },
  {
   "cell_type": "code",
   "execution_count": 82,
   "id": "210a5198",
   "metadata": {},
   "outputs": [],
   "source": [
    "dest = data.groupby(['Destination'])['Price'].mean().sort_values().index"
   ]
  },
  {
   "cell_type": "code",
   "execution_count": 83,
   "id": "02096932",
   "metadata": {},
   "outputs": [
    {
     "data": {
      "text/plain": [
       "Index(['Kolkata', 'Hyderabad', 'Delhi', 'Banglore', 'Cochin'], dtype='object', name='Destination')"
      ]
     },
     "execution_count": 83,
     "metadata": {},
     "output_type": "execute_result"
    }
   ],
   "source": [
    "dest"
   ]
  },
  {
   "cell_type": "code",
   "execution_count": 84,
   "id": "4c4b1afd",
   "metadata": {},
   "outputs": [],
   "source": [
    "dict2 = {key:index for index,key in enumerate(dest,0)}"
   ]
  },
  {
   "cell_type": "code",
   "execution_count": 85,
   "id": "bb72ec7a",
   "metadata": {},
   "outputs": [
    {
     "data": {
      "text/plain": [
       "{'Kolkata': 0, 'Hyderabad': 1, 'Delhi': 2, 'Banglore': 3, 'Cochin': 4}"
      ]
     },
     "execution_count": 85,
     "metadata": {},
     "output_type": "execute_result"
    }
   ],
   "source": [
    "dict2"
   ]
  },
  {
   "cell_type": "code",
   "execution_count": 86,
   "id": "5596c4d6",
   "metadata": {},
   "outputs": [],
   "source": [
    "data['Destination'] = data['Destination'].map(dict2)"
   ]
  },
  {
   "cell_type": "code",
   "execution_count": 87,
   "id": "0520730f",
   "metadata": {},
   "outputs": [
    {
     "data": {
      "text/plain": [
       "0        2\n",
       "1        3\n",
       "2        4\n",
       "3        3\n",
       "4        2\n",
       "        ..\n",
       "10678    3\n",
       "10679    3\n",
       "10680    2\n",
       "10681    2\n",
       "10682    4\n",
       "Name: Destination, Length: 10682, dtype: int64"
      ]
     },
     "execution_count": 87,
     "metadata": {},
     "output_type": "execute_result"
    }
   ],
   "source": [
    "data['Destination']"
   ]
  },
  {
   "cell_type": "code",
   "execution_count": 88,
   "id": "49231181",
   "metadata": {},
   "outputs": [
    {
     "data": {
      "text/html": [
       "<div>\n",
       "<style scoped>\n",
       "    .dataframe tbody tr th:only-of-type {\n",
       "        vertical-align: middle;\n",
       "    }\n",
       "\n",
       "    .dataframe tbody tr th {\n",
       "        vertical-align: top;\n",
       "    }\n",
       "\n",
       "    .dataframe thead th {\n",
       "        text-align: right;\n",
       "    }\n",
       "</style>\n",
       "<table border=\"1\" class=\"dataframe\">\n",
       "  <thead>\n",
       "    <tr style=\"text-align: right;\">\n",
       "      <th></th>\n",
       "      <th>Airline</th>\n",
       "      <th>Source</th>\n",
       "      <th>Destination</th>\n",
       "      <th>Duration</th>\n",
       "      <th>Total_Stops</th>\n",
       "      <th>Price</th>\n",
       "      <th>Journey_day</th>\n",
       "      <th>Journey_month</th>\n",
       "      <th>Dep_Time_hour</th>\n",
       "      <th>Dep_Time_minute</th>\n",
       "      <th>Arrival_Time_hour</th>\n",
       "      <th>Arrival_Time_minute</th>\n",
       "      <th>Duration_hours</th>\n",
       "      <th>Duration_minutes</th>\n",
       "      <th>Source_Banglore</th>\n",
       "      <th>Source_Kolkata</th>\n",
       "      <th>Source_Delhi</th>\n",
       "      <th>Source_Chennai</th>\n",
       "      <th>Source_Mumbai</th>\n",
       "    </tr>\n",
       "  </thead>\n",
       "  <tbody>\n",
       "    <tr>\n",
       "      <th>0</th>\n",
       "      <td>3</td>\n",
       "      <td>Banglore</td>\n",
       "      <td>2</td>\n",
       "      <td>2h 50m</td>\n",
       "      <td>non-stop</td>\n",
       "      <td>3897</td>\n",
       "      <td>24</td>\n",
       "      <td>3</td>\n",
       "      <td>22</td>\n",
       "      <td>20</td>\n",
       "      <td>1</td>\n",
       "      <td>10</td>\n",
       "      <td>2</td>\n",
       "      <td>50</td>\n",
       "      <td>1</td>\n",
       "      <td>0</td>\n",
       "      <td>0</td>\n",
       "      <td>0</td>\n",
       "      <td>0</td>\n",
       "    </tr>\n",
       "    <tr>\n",
       "      <th>1</th>\n",
       "      <td>7</td>\n",
       "      <td>Kolkata</td>\n",
       "      <td>3</td>\n",
       "      <td>7h 25m</td>\n",
       "      <td>2 stops</td>\n",
       "      <td>7662</td>\n",
       "      <td>5</td>\n",
       "      <td>1</td>\n",
       "      <td>5</td>\n",
       "      <td>50</td>\n",
       "      <td>13</td>\n",
       "      <td>15</td>\n",
       "      <td>7</td>\n",
       "      <td>25</td>\n",
       "      <td>0</td>\n",
       "      <td>1</td>\n",
       "      <td>0</td>\n",
       "      <td>0</td>\n",
       "      <td>0</td>\n",
       "    </tr>\n",
       "  </tbody>\n",
       "</table>\n",
       "</div>"
      ],
      "text/plain": [
       "   Airline    Source  Destination Duration Total_Stops  Price  Journey_day  \\\n",
       "0        3  Banglore            2   2h 50m    non-stop   3897           24   \n",
       "1        7   Kolkata            3   7h 25m     2 stops   7662            5   \n",
       "\n",
       "   Journey_month  Dep_Time_hour  Dep_Time_minute  Arrival_Time_hour  \\\n",
       "0              3             22               20                  1   \n",
       "1              1              5               50                 13   \n",
       "\n",
       "   Arrival_Time_minute  Duration_hours  Duration_minutes  Source_Banglore  \\\n",
       "0                   10               2                50                1   \n",
       "1                   15               7                25                0   \n",
       "\n",
       "   Source_Kolkata  Source_Delhi  Source_Chennai  Source_Mumbai  \n",
       "0               0             0               0              0  \n",
       "1               1             0               0              0  "
      ]
     },
     "execution_count": 88,
     "metadata": {},
     "output_type": "execute_result"
    }
   ],
   "source": [
    "data.head(2)"
   ]
  },
  {
   "cell_type": "code",
   "execution_count": null,
   "id": "c0d7d501",
   "metadata": {},
   "outputs": [],
   "source": []
  },
  {
   "cell_type": "markdown",
   "id": "ac384f18",
   "metadata": {},
   "source": [
    "### Manual Encoding on Total_Stops feature "
   ]
  },
  {
   "cell_type": "code",
   "execution_count": 89,
   "id": "d00132b5",
   "metadata": {},
   "outputs": [
    {
     "data": {
      "text/plain": [
       "array(['non-stop', '2 stops', '1 stop', '3 stops', '4 stops'],\n",
       "      dtype=object)"
      ]
     },
     "execution_count": 89,
     "metadata": {},
     "output_type": "execute_result"
    }
   ],
   "source": [
    "data['Total_Stops'].unique()"
   ]
  },
  {
   "cell_type": "code",
   "execution_count": 90,
   "id": "8ab8e9e3",
   "metadata": {},
   "outputs": [],
   "source": [
    "stops = {'non-stop':0, '2 stops':2, '1 stop':1, '3 stops':3, '4 stops':4}"
   ]
  },
  {
   "cell_type": "code",
   "execution_count": 91,
   "id": "e7aa16cd",
   "metadata": {},
   "outputs": [],
   "source": [
    "data['Total_Stops'] = data['Total_Stops'].map(stops)"
   ]
  },
  {
   "cell_type": "code",
   "execution_count": 92,
   "id": "911e7144",
   "metadata": {},
   "outputs": [
    {
     "data": {
      "text/plain": [
       "0        0\n",
       "1        2\n",
       "2        2\n",
       "3        1\n",
       "4        1\n",
       "        ..\n",
       "10678    0\n",
       "10679    0\n",
       "10680    0\n",
       "10681    0\n",
       "10682    2\n",
       "Name: Total_Stops, Length: 10682, dtype: int64"
      ]
     },
     "execution_count": 92,
     "metadata": {},
     "output_type": "execute_result"
    }
   ],
   "source": [
    "data['Total_Stops']"
   ]
  },
  {
   "cell_type": "code",
   "execution_count": 93,
   "id": "5006fe69",
   "metadata": {},
   "outputs": [
    {
     "data": {
      "text/html": [
       "<div>\n",
       "<style scoped>\n",
       "    .dataframe tbody tr th:only-of-type {\n",
       "        vertical-align: middle;\n",
       "    }\n",
       "\n",
       "    .dataframe tbody tr th {\n",
       "        vertical-align: top;\n",
       "    }\n",
       "\n",
       "    .dataframe thead th {\n",
       "        text-align: right;\n",
       "    }\n",
       "</style>\n",
       "<table border=\"1\" class=\"dataframe\">\n",
       "  <thead>\n",
       "    <tr style=\"text-align: right;\">\n",
       "      <th></th>\n",
       "      <th>Airline</th>\n",
       "      <th>Source</th>\n",
       "      <th>Destination</th>\n",
       "      <th>Duration</th>\n",
       "      <th>Total_Stops</th>\n",
       "      <th>Price</th>\n",
       "      <th>Journey_day</th>\n",
       "      <th>Journey_month</th>\n",
       "      <th>Dep_Time_hour</th>\n",
       "      <th>Dep_Time_minute</th>\n",
       "      <th>Arrival_Time_hour</th>\n",
       "      <th>Arrival_Time_minute</th>\n",
       "      <th>Duration_hours</th>\n",
       "      <th>Duration_minutes</th>\n",
       "      <th>Source_Banglore</th>\n",
       "      <th>Source_Kolkata</th>\n",
       "      <th>Source_Delhi</th>\n",
       "      <th>Source_Chennai</th>\n",
       "      <th>Source_Mumbai</th>\n",
       "    </tr>\n",
       "  </thead>\n",
       "  <tbody>\n",
       "    <tr>\n",
       "      <th>0</th>\n",
       "      <td>3</td>\n",
       "      <td>Banglore</td>\n",
       "      <td>2</td>\n",
       "      <td>2h 50m</td>\n",
       "      <td>0</td>\n",
       "      <td>3897</td>\n",
       "      <td>24</td>\n",
       "      <td>3</td>\n",
       "      <td>22</td>\n",
       "      <td>20</td>\n",
       "      <td>1</td>\n",
       "      <td>10</td>\n",
       "      <td>2</td>\n",
       "      <td>50</td>\n",
       "      <td>1</td>\n",
       "      <td>0</td>\n",
       "      <td>0</td>\n",
       "      <td>0</td>\n",
       "      <td>0</td>\n",
       "    </tr>\n",
       "    <tr>\n",
       "      <th>1</th>\n",
       "      <td>7</td>\n",
       "      <td>Kolkata</td>\n",
       "      <td>3</td>\n",
       "      <td>7h 25m</td>\n",
       "      <td>2</td>\n",
       "      <td>7662</td>\n",
       "      <td>5</td>\n",
       "      <td>1</td>\n",
       "      <td>5</td>\n",
       "      <td>50</td>\n",
       "      <td>13</td>\n",
       "      <td>15</td>\n",
       "      <td>7</td>\n",
       "      <td>25</td>\n",
       "      <td>0</td>\n",
       "      <td>1</td>\n",
       "      <td>0</td>\n",
       "      <td>0</td>\n",
       "      <td>0</td>\n",
       "    </tr>\n",
       "  </tbody>\n",
       "</table>\n",
       "</div>"
      ],
      "text/plain": [
       "   Airline    Source  Destination Duration  Total_Stops  Price  Journey_day  \\\n",
       "0        3  Banglore            2   2h 50m            0   3897           24   \n",
       "1        7   Kolkata            3   7h 25m            2   7662            5   \n",
       "\n",
       "   Journey_month  Dep_Time_hour  Dep_Time_minute  Arrival_Time_hour  \\\n",
       "0              3             22               20                  1   \n",
       "1              1              5               50                 13   \n",
       "\n",
       "   Arrival_Time_minute  Duration_hours  Duration_minutes  Source_Banglore  \\\n",
       "0                   10               2                50                1   \n",
       "1                   15               7                25                0   \n",
       "\n",
       "   Source_Kolkata  Source_Delhi  Source_Chennai  Source_Mumbai  \n",
       "0               0             0               0              0  \n",
       "1               1             0               0              0  "
      ]
     },
     "execution_count": 93,
     "metadata": {},
     "output_type": "execute_result"
    }
   ],
   "source": [
    "data.head(2)"
   ]
  },
  {
   "cell_type": "code",
   "execution_count": null,
   "id": "265ff311",
   "metadata": {},
   "outputs": [],
   "source": []
  },
  {
   "cell_type": "code",
   "execution_count": null,
   "id": "7188bdf7",
   "metadata": {},
   "outputs": [],
   "source": []
  },
  {
   "cell_type": "markdown",
   "id": "f9c33d67",
   "metadata": {},
   "source": [
    "### Performing Outliers Detection"
   ]
  },
  {
   "cell_type": "markdown",
   "id": "fc8ff990",
   "metadata": {},
   "source": [
    "To spot outliers in the data, we can use following data visualization plots:\n",
    "1. Box plot\n",
    "2. Scatter plot\n",
    "3. Histogram\n",
    "4. Distibution plot\n",
    "5. QQ plot"
   ]
  },
  {
   "cell_type": "markdown",
   "id": "7fafb448",
   "metadata": {},
   "source": [
    "Cause for Outliers:\n",
    "\n",
    "*Data entry error: Human errors such as errors caused during data collection, recording, or entry can cause outliers in data.\n",
    "\n",
    "*Measurement error: It is the most common cause source of outliers. This is caused when measurement instrument used truns out to be faulty.\n",
    "\n",
    "*Natural Outlier: When an outlier is not artificial (due to error), it is a natural outlier. Most of real world data belong to this category."
   ]
  },
  {
   "cell_type": "code",
   "execution_count": 94,
   "id": "e9002609",
   "metadata": {},
   "outputs": [],
   "source": [
    "def plot(df, col):\n",
    "    fig,(ax1,ax2,ax3) = plt.subplots(3,1)\n",
    "    sns.distplot(df[col], ax=ax1)\n",
    "    sns.boxplot(df[col], ax=ax2)\n",
    "    sns.histplot(df[col], ax=ax3)"
   ]
  },
  {
   "cell_type": "code",
   "execution_count": 95,
   "id": "7f890be5",
   "metadata": {},
   "outputs": [
    {
     "name": "stderr",
     "output_type": "stream",
     "text": [
      "C:\\Users\\UC17\\anaconda3\\lib\\site-packages\\seaborn\\distributions.py:2557: FutureWarning:\n",
      "\n",
      "`distplot` is a deprecated function and will be removed in a future version. Please adapt your code to use either `displot` (a figure-level function with similar flexibility) or `histplot` (an axes-level function for histograms).\n",
      "\n",
      "C:\\Users\\UC17\\anaconda3\\lib\\site-packages\\seaborn\\_decorators.py:36: FutureWarning:\n",
      "\n",
      "Pass the following variable as a keyword arg: x. From version 0.12, the only valid positional argument will be `data`, and passing other arguments without an explicit keyword will result in an error or misinterpretation.\n",
      "\n"
     ]
    },
    {
     "data": {
      "image/png": "[encoded data removed]",
      "text/plain": [
       "<Figure size 432x288 with 3 Axes>"
      ]
     },
     "metadata": {
      "needs_background": "light"
     },
     "output_type": "display_data"
    }
   ],
   "source": [
    "plot(data, 'Price')"
   ]
  },
  {
   "cell_type": "code",
   "execution_count": null,
   "id": "3bbc6fae",
   "metadata": {},
   "outputs": [],
   "source": []
  },
  {
   "cell_type": "markdown",
   "id": "cf36d623",
   "metadata": {},
   "source": [
    "### Dealing with outliers"
   ]
  },
  {
   "cell_type": "markdown",
   "id": "d9eb8cd1",
   "metadata": {},
   "source": [
    "There are various ways to deal with outliers, we will be using statistical imputation i.e. impute it with mean, median or mode of data."
   ]
  },
  {
   "cell_type": "code",
   "execution_count": 96,
   "id": "36332612",
   "metadata": {},
   "outputs": [],
   "source": [
    "data['Price'] = np.where(data['Price']>=35000, data['Price'].median(), data['Price'])"
   ]
  },
  {
   "cell_type": "code",
   "execution_count": 97,
   "id": "e889840d",
   "metadata": {},
   "outputs": [
    {
     "name": "stderr",
     "output_type": "stream",
     "text": [
      "C:\\Users\\UC17\\anaconda3\\lib\\site-packages\\seaborn\\distributions.py:2557: FutureWarning:\n",
      "\n",
      "`distplot` is a deprecated function and will be removed in a future version. Please adapt your code to use either `displot` (a figure-level function with similar flexibility) or `histplot` (an axes-level function for histograms).\n",
      "\n",
      "C:\\Users\\UC17\\anaconda3\\lib\\site-packages\\seaborn\\_decorators.py:36: FutureWarning:\n",
      "\n",
      "Pass the following variable as a keyword arg: x. From version 0.12, the only valid positional argument will be `data`, and passing other arguments without an explicit keyword will result in an error or misinterpretation.\n",
      "\n"
     ]
    },
    {
     "data": {
      "image/png": "[encoded data removed]",
      "text/plain": [
       "<Figure size 432x288 with 3 Axes>"
      ]
     },
     "metadata": {
      "needs_background": "light"
     },
     "output_type": "display_data"
    }
   ],
   "source": [
    "plot(data, 'Price')"
   ]
  },
  {
   "cell_type": "code",
   "execution_count": null,
   "id": "b5779785",
   "metadata": {},
   "outputs": [],
   "source": []
  },
  {
   "cell_type": "code",
   "execution_count": 98,
   "id": "1b1ef22a",
   "metadata": {},
   "outputs": [
    {
     "data": {
      "text/html": [
       "<div>\n",
       "<style scoped>\n",
       "    .dataframe tbody tr th:only-of-type {\n",
       "        vertical-align: middle;\n",
       "    }\n",
       "\n",
       "    .dataframe tbody tr th {\n",
       "        vertical-align: top;\n",
       "    }\n",
       "\n",
       "    .dataframe thead th {\n",
       "        text-align: right;\n",
       "    }\n",
       "</style>\n",
       "<table border=\"1\" class=\"dataframe\">\n",
       "  <thead>\n",
       "    <tr style=\"text-align: right;\">\n",
       "      <th></th>\n",
       "      <th>Airline</th>\n",
       "      <th>Source</th>\n",
       "      <th>Destination</th>\n",
       "      <th>Duration</th>\n",
       "      <th>Total_Stops</th>\n",
       "      <th>Price</th>\n",
       "      <th>Journey_day</th>\n",
       "      <th>Journey_month</th>\n",
       "      <th>Dep_Time_hour</th>\n",
       "      <th>Dep_Time_minute</th>\n",
       "      <th>Arrival_Time_hour</th>\n",
       "      <th>Arrival_Time_minute</th>\n",
       "      <th>Duration_hours</th>\n",
       "      <th>Duration_minutes</th>\n",
       "      <th>Source_Banglore</th>\n",
       "      <th>Source_Kolkata</th>\n",
       "      <th>Source_Delhi</th>\n",
       "      <th>Source_Chennai</th>\n",
       "      <th>Source_Mumbai</th>\n",
       "    </tr>\n",
       "  </thead>\n",
       "  <tbody>\n",
       "    <tr>\n",
       "      <th>0</th>\n",
       "      <td>3</td>\n",
       "      <td>Banglore</td>\n",
       "      <td>2</td>\n",
       "      <td>2h 50m</td>\n",
       "      <td>0</td>\n",
       "      <td>3897.0</td>\n",
       "      <td>24</td>\n",
       "      <td>3</td>\n",
       "      <td>22</td>\n",
       "      <td>20</td>\n",
       "      <td>1</td>\n",
       "      <td>10</td>\n",
       "      <td>2</td>\n",
       "      <td>50</td>\n",
       "      <td>1</td>\n",
       "      <td>0</td>\n",
       "      <td>0</td>\n",
       "      <td>0</td>\n",
       "      <td>0</td>\n",
       "    </tr>\n",
       "    <tr>\n",
       "      <th>1</th>\n",
       "      <td>7</td>\n",
       "      <td>Kolkata</td>\n",
       "      <td>3</td>\n",
       "      <td>7h 25m</td>\n",
       "      <td>2</td>\n",
       "      <td>7662.0</td>\n",
       "      <td>5</td>\n",
       "      <td>1</td>\n",
       "      <td>5</td>\n",
       "      <td>50</td>\n",
       "      <td>13</td>\n",
       "      <td>15</td>\n",
       "      <td>7</td>\n",
       "      <td>25</td>\n",
       "      <td>0</td>\n",
       "      <td>1</td>\n",
       "      <td>0</td>\n",
       "      <td>0</td>\n",
       "      <td>0</td>\n",
       "    </tr>\n",
       "  </tbody>\n",
       "</table>\n",
       "</div>"
      ],
      "text/plain": [
       "   Airline    Source  Destination Duration  Total_Stops   Price  Journey_day  \\\n",
       "0        3  Banglore            2   2h 50m            0  3897.0           24   \n",
       "1        7   Kolkata            3   7h 25m            2  7662.0            5   \n",
       "\n",
       "   Journey_month  Dep_Time_hour  Dep_Time_minute  Arrival_Time_hour  \\\n",
       "0              3             22               20                  1   \n",
       "1              1              5               50                 13   \n",
       "\n",
       "   Arrival_Time_minute  Duration_hours  Duration_minutes  Source_Banglore  \\\n",
       "0                   10               2                50                1   \n",
       "1                   15               7                25                0   \n",
       "\n",
       "   Source_Kolkata  Source_Delhi  Source_Chennai  Source_Mumbai  \n",
       "0               0             0               0              0  \n",
       "1               1             0               0              0  "
      ]
     },
     "execution_count": 98,
     "metadata": {},
     "output_type": "execute_result"
    }
   ],
   "source": [
    "data.head(2)"
   ]
  },
  {
   "cell_type": "code",
   "execution_count": 99,
   "id": "450eacb6",
   "metadata": {},
   "outputs": [],
   "source": [
    "data.drop(columns=['Source', 'Duration'], axis=1, inplace=True)"
   ]
  },
  {
   "cell_type": "code",
   "execution_count": 100,
   "id": "26cb2b7d",
   "metadata": {},
   "outputs": [
    {
     "data": {
      "text/html": [
       "<div>\n",
       "<style scoped>\n",
       "    .dataframe tbody tr th:only-of-type {\n",
       "        vertical-align: middle;\n",
       "    }\n",
       "\n",
       "    .dataframe tbody tr th {\n",
       "        vertical-align: top;\n",
       "    }\n",
       "\n",
       "    .dataframe thead th {\n",
       "        text-align: right;\n",
       "    }\n",
       "</style>\n",
       "<table border=\"1\" class=\"dataframe\">\n",
       "  <thead>\n",
       "    <tr style=\"text-align: right;\">\n",
       "      <th></th>\n",
       "      <th>Airline</th>\n",
       "      <th>Destination</th>\n",
       "      <th>Total_Stops</th>\n",
       "      <th>Price</th>\n",
       "      <th>Journey_day</th>\n",
       "      <th>Journey_month</th>\n",
       "      <th>Dep_Time_hour</th>\n",
       "      <th>Dep_Time_minute</th>\n",
       "      <th>Arrival_Time_hour</th>\n",
       "      <th>Arrival_Time_minute</th>\n",
       "      <th>Duration_hours</th>\n",
       "      <th>Duration_minutes</th>\n",
       "      <th>Source_Banglore</th>\n",
       "      <th>Source_Kolkata</th>\n",
       "      <th>Source_Delhi</th>\n",
       "      <th>Source_Chennai</th>\n",
       "      <th>Source_Mumbai</th>\n",
       "    </tr>\n",
       "  </thead>\n",
       "  <tbody>\n",
       "    <tr>\n",
       "      <th>0</th>\n",
       "      <td>3</td>\n",
       "      <td>2</td>\n",
       "      <td>0</td>\n",
       "      <td>3897.0</td>\n",
       "      <td>24</td>\n",
       "      <td>3</td>\n",
       "      <td>22</td>\n",
       "      <td>20</td>\n",
       "      <td>1</td>\n",
       "      <td>10</td>\n",
       "      <td>2</td>\n",
       "      <td>50</td>\n",
       "      <td>1</td>\n",
       "      <td>0</td>\n",
       "      <td>0</td>\n",
       "      <td>0</td>\n",
       "      <td>0</td>\n",
       "    </tr>\n",
       "    <tr>\n",
       "      <th>1</th>\n",
       "      <td>7</td>\n",
       "      <td>3</td>\n",
       "      <td>2</td>\n",
       "      <td>7662.0</td>\n",
       "      <td>5</td>\n",
       "      <td>1</td>\n",
       "      <td>5</td>\n",
       "      <td>50</td>\n",
       "      <td>13</td>\n",
       "      <td>15</td>\n",
       "      <td>7</td>\n",
       "      <td>25</td>\n",
       "      <td>0</td>\n",
       "      <td>1</td>\n",
       "      <td>0</td>\n",
       "      <td>0</td>\n",
       "      <td>0</td>\n",
       "    </tr>\n",
       "  </tbody>\n",
       "</table>\n",
       "</div>"
      ],
      "text/plain": [
       "   Airline  Destination  Total_Stops   Price  Journey_day  Journey_month  \\\n",
       "0        3            2            0  3897.0           24              3   \n",
       "1        7            3            2  7662.0            5              1   \n",
       "\n",
       "   Dep_Time_hour  Dep_Time_minute  Arrival_Time_hour  Arrival_Time_minute  \\\n",
       "0             22               20                  1                   10   \n",
       "1              5               50                 13                   15   \n",
       "\n",
       "   Duration_hours  Duration_minutes  Source_Banglore  Source_Kolkata  \\\n",
       "0               2                50                1               0   \n",
       "1               7                25                0               1   \n",
       "\n",
       "   Source_Delhi  Source_Chennai  Source_Mumbai  \n",
       "0             0               0              0  \n",
       "1             0               0              0  "
      ]
     },
     "execution_count": 100,
     "metadata": {},
     "output_type": "execute_result"
    }
   ],
   "source": [
    "data.head(2)"
   ]
  },
  {
   "cell_type": "code",
   "execution_count": 101,
   "id": "4ca7b3cc",
   "metadata": {},
   "outputs": [
    {
     "data": {
      "text/plain": [
       "Airline                  int64\n",
       "Destination              int64\n",
       "Total_Stops              int64\n",
       "Price                  float64\n",
       "Journey_day              int64\n",
       "Journey_month            int64\n",
       "Dep_Time_hour            int64\n",
       "Dep_Time_minute          int64\n",
       "Arrival_Time_hour        int64\n",
       "Arrival_Time_minute      int64\n",
       "Duration_hours           int64\n",
       "Duration_minutes         int64\n",
       "Source_Banglore          int64\n",
       "Source_Kolkata           int64\n",
       "Source_Delhi             int64\n",
       "Source_Chennai           int64\n",
       "Source_Mumbai            int64\n",
       "dtype: object"
      ]
     },
     "execution_count": 101,
     "metadata": {},
     "output_type": "execute_result"
    }
   ],
   "source": [
    "data.dtypes"
   ]
  },
  {
   "cell_type": "code",
   "execution_count": null,
   "id": "f5d6a011",
   "metadata": {},
   "outputs": [],
   "source": []
  },
  {
   "cell_type": "code",
   "execution_count": null,
   "id": "489a70f6",
   "metadata": {},
   "outputs": [],
   "source": []
  },
  {
   "cell_type": "markdown",
   "id": "d787493b",
   "metadata": {},
   "source": [
    "### Performing Feature Selection "
   ]
  },
  {
   "cell_type": "markdown",
   "id": "dc1dd263",
   "metadata": {},
   "source": [
    "Finding out the best features which will contribute most to the target variable.\n",
    "\n",
    "We will be using mutual_info_regression technique to determine the connection between the given features and the target."
   ]
  },
  {
   "cell_type": "code",
   "execution_count": 102,
   "id": "38e65b14",
   "metadata": {},
   "outputs": [],
   "source": [
    "from sklearn.feature_selection import mutual_info_regression"
   ]
  },
  {
   "cell_type": "code",
   "execution_count": 103,
   "id": "30954489",
   "metadata": {},
   "outputs": [],
   "source": [
    "X = data.drop('Price', axis=1)"
   ]
  },
  {
   "cell_type": "code",
   "execution_count": 104,
   "id": "2f4c51dc",
   "metadata": {},
   "outputs": [],
   "source": [
    "y = data['Price']"
   ]
  },
  {
   "cell_type": "code",
   "execution_count": 105,
   "id": "56293627",
   "metadata": {},
   "outputs": [
    {
     "data": {
      "text/plain": [
       "Airline                int64\n",
       "Destination            int64\n",
       "Total_Stops            int64\n",
       "Journey_day            int64\n",
       "Journey_month          int64\n",
       "Dep_Time_hour          int64\n",
       "Dep_Time_minute        int64\n",
       "Arrival_Time_hour      int64\n",
       "Arrival_Time_minute    int64\n",
       "Duration_hours         int64\n",
       "Duration_minutes       int64\n",
       "Source_Banglore        int64\n",
       "Source_Kolkata         int64\n",
       "Source_Delhi           int64\n",
       "Source_Chennai         int64\n",
       "Source_Mumbai          int64\n",
       "dtype: object"
      ]
     },
     "execution_count": 105,
     "metadata": {},
     "output_type": "execute_result"
    }
   ],
   "source": [
    "X.dtypes"
   ]
  },
  {
   "cell_type": "code",
   "execution_count": 106,
   "id": "f5465bdb",
   "metadata": {},
   "outputs": [
    {
     "data": {
      "text/plain": [
       "array([0.9848609 , 1.0026024 , 0.79321231, 0.19181141, 0.23575012,\n",
       "       0.3389679 , 0.25917079, 0.40428618, 0.35921813, 0.47248263,\n",
       "       0.346243  , 0.37990382, 0.44814659, 0.52781579, 0.1389503 ,\n",
       "       0.18553077])"
      ]
     },
     "execution_count": 106,
     "metadata": {},
     "output_type": "execute_result"
    }
   ],
   "source": [
    "mutual_info_regression(X, y)"
   ]
  },
  {
   "cell_type": "code",
   "execution_count": 107,
   "id": "e89be762",
   "metadata": {},
   "outputs": [],
   "source": [
    "imp = pd.DataFrame(mutual_info_regression(X, y), index=X.columns)\n",
    "imp.columns = ['Importance']"
   ]
  },
  {
   "cell_type": "code",
   "execution_count": 108,
   "id": "b0f47d73",
   "metadata": {},
   "outputs": [
    {
     "data": {
      "text/html": [
       "<div>\n",
       "<style scoped>\n",
       "    .dataframe tbody tr th:only-of-type {\n",
       "        vertical-align: middle;\n",
       "    }\n",
       "\n",
       "    .dataframe tbody tr th {\n",
       "        vertical-align: top;\n",
       "    }\n",
       "\n",
       "    .dataframe thead th {\n",
       "        text-align: right;\n",
       "    }\n",
       "</style>\n",
       "<table border=\"1\" class=\"dataframe\">\n",
       "  <thead>\n",
       "    <tr style=\"text-align: right;\">\n",
       "      <th></th>\n",
       "      <th>Importance</th>\n",
       "    </tr>\n",
       "  </thead>\n",
       "  <tbody>\n",
       "    <tr>\n",
       "      <th>Destination</th>\n",
       "      <td>1.004173</td>\n",
       "    </tr>\n",
       "    <tr>\n",
       "      <th>Airline</th>\n",
       "      <td>0.972437</td>\n",
       "    </tr>\n",
       "    <tr>\n",
       "      <th>Total_Stops</th>\n",
       "      <td>0.781574</td>\n",
       "    </tr>\n",
       "    <tr>\n",
       "      <th>Source_Delhi</th>\n",
       "      <td>0.522842</td>\n",
       "    </tr>\n",
       "    <tr>\n",
       "      <th>Duration_hours</th>\n",
       "      <td>0.476571</td>\n",
       "    </tr>\n",
       "    <tr>\n",
       "      <th>Source_Kolkata</th>\n",
       "      <td>0.450851</td>\n",
       "    </tr>\n",
       "    <tr>\n",
       "      <th>Arrival_Time_hour</th>\n",
       "      <td>0.398317</td>\n",
       "    </tr>\n",
       "    <tr>\n",
       "      <th>Source_Banglore</th>\n",
       "      <td>0.387393</td>\n",
       "    </tr>\n",
       "    <tr>\n",
       "      <th>Arrival_Time_minute</th>\n",
       "      <td>0.354930</td>\n",
       "    </tr>\n",
       "    <tr>\n",
       "      <th>Duration_minutes</th>\n",
       "      <td>0.345025</td>\n",
       "    </tr>\n",
       "    <tr>\n",
       "      <th>Dep_Time_hour</th>\n",
       "      <td>0.341148</td>\n",
       "    </tr>\n",
       "    <tr>\n",
       "      <th>Dep_Time_minute</th>\n",
       "      <td>0.262340</td>\n",
       "    </tr>\n",
       "    <tr>\n",
       "      <th>Journey_month</th>\n",
       "      <td>0.229093</td>\n",
       "    </tr>\n",
       "    <tr>\n",
       "      <th>Source_Mumbai</th>\n",
       "      <td>0.198023</td>\n",
       "    </tr>\n",
       "    <tr>\n",
       "      <th>Journey_day</th>\n",
       "      <td>0.180576</td>\n",
       "    </tr>\n",
       "    <tr>\n",
       "      <th>Source_Chennai</th>\n",
       "      <td>0.135996</td>\n",
       "    </tr>\n",
       "  </tbody>\n",
       "</table>\n",
       "</div>"
      ],
      "text/plain": [
       "                     Importance\n",
       "Destination            1.004173\n",
       "Airline                0.972437\n",
       "Total_Stops            0.781574\n",
       "Source_Delhi           0.522842\n",
       "Duration_hours         0.476571\n",
       "Source_Kolkata         0.450851\n",
       "Arrival_Time_hour      0.398317\n",
       "Source_Banglore        0.387393\n",
       "Arrival_Time_minute    0.354930\n",
       "Duration_minutes       0.345025\n",
       "Dep_Time_hour          0.341148\n",
       "Dep_Time_minute        0.262340\n",
       "Journey_month          0.229093\n",
       "Source_Mumbai          0.198023\n",
       "Journey_day            0.180576\n",
       "Source_Chennai         0.135996"
      ]
     },
     "execution_count": 108,
     "metadata": {},
     "output_type": "execute_result"
    }
   ],
   "source": [
    "imp.sort_values(by='Importance',ascending=False)"
   ]
  },
  {
   "cell_type": "code",
   "execution_count": null,
   "id": "5101eedd",
   "metadata": {},
   "outputs": [],
   "source": []
  },
  {
   "cell_type": "code",
   "execution_count": null,
   "id": "449d7948",
   "metadata": {},
   "outputs": [],
   "source": []
  },
  {
   "cell_type": "markdown",
   "id": "85e6f354",
   "metadata": {},
   "source": [
    "### Let's build ML Model "
   ]
  },
  {
   "cell_type": "code",
   "execution_count": 109,
   "id": "be0cd80c",
   "metadata": {},
   "outputs": [],
   "source": [
    "from sklearn.model_selection import train_test_split"
   ]
  },
  {
   "cell_type": "code",
   "execution_count": 110,
   "id": "492a5fab",
   "metadata": {},
   "outputs": [],
   "source": [
    "X_train, X_test, y_train, y_test = train_test_split(X, y, test_size=0.25, random_state=42)"
   ]
  },
  {
   "cell_type": "code",
   "execution_count": 111,
   "id": "647c57c4",
   "metadata": {},
   "outputs": [],
   "source": [
    "from sklearn.ensemble import RandomForestRegressor"
   ]
  },
  {
   "cell_type": "code",
   "execution_count": 112,
   "id": "e301a0a6",
   "metadata": {},
   "outputs": [],
   "source": [
    "rf_model = RandomForestRegressor()"
   ]
  },
  {
   "cell_type": "code",
   "execution_count": 113,
   "id": "3e55b385",
   "metadata": {},
   "outputs": [],
   "source": [
    "model = rf_model.fit(X_train, y_train)"
   ]
  },
  {
   "cell_type": "code",
   "execution_count": 114,
   "id": "785beaad",
   "metadata": {},
   "outputs": [],
   "source": [
    "y_pred = model.predict(X_test)"
   ]
  },
  {
   "cell_type": "code",
   "execution_count": 115,
   "id": "96fbedbf",
   "metadata": {},
   "outputs": [
    {
     "data": {
      "text/plain": [
       "array([16697.83,  6306.76,  8765.51, ...,  3513.44,  6358.92,  6995.15])"
      ]
     },
     "execution_count": 115,
     "metadata": {},
     "output_type": "execute_result"
    }
   ],
   "source": [
    "y_pred"
   ]
  },
  {
   "cell_type": "code",
   "execution_count": 116,
   "id": "2eb3d504",
   "metadata": {},
   "outputs": [
    {
     "data": {
      "text/plain": [
       "(2671,)"
      ]
     },
     "execution_count": 116,
     "metadata": {},
     "output_type": "execute_result"
    }
   ],
   "source": [
    "y_pred.shape"
   ]
  },
  {
   "cell_type": "code",
   "execution_count": 117,
   "id": "286c76e8",
   "metadata": {},
   "outputs": [
    {
     "data": {
      "text/plain": [
       "2671"
      ]
     },
     "execution_count": 117,
     "metadata": {},
     "output_type": "execute_result"
    }
   ],
   "source": [
    "len(X_test)"
   ]
  },
  {
   "cell_type": "code",
   "execution_count": null,
   "id": "05ea3011",
   "metadata": {},
   "outputs": [],
   "source": []
  },
  {
   "cell_type": "markdown",
   "id": "8bb42525",
   "metadata": {},
   "source": [
    "### Saving the Model "
   ]
  },
  {
   "cell_type": "markdown",
   "id": "b9ccbb72",
   "metadata": {},
   "source": [
    "Let's dump our ML model using pickle and joblib.\n",
    "\n",
    "Advantage of dumping: Suppose in future we have new data, and we are required to predict price on this huge data,\n",
    "then just for this new data, we have to execute all the above cells and follow the entire pipeline, then only we are able to predict on this....\n",
    "\n",
    "So to get rid of such issue, we will just dump it to resuse again and again.\n",
    "\n",
    "The file stores coefficients of our model, not an entire dataset."
   ]
  },
  {
   "cell_type": "code",
   "execution_count": 118,
   "id": "59e595b9",
   "metadata": {},
   "outputs": [],
   "source": [
    "# !pip install pickle"
   ]
  },
  {
   "cell_type": "code",
   "execution_count": 119,
   "id": "f7f4089d",
   "metadata": {},
   "outputs": [],
   "source": [
    "import pickle"
   ]
  },
  {
   "cell_type": "code",
   "execution_count": 120,
   "id": "20021c87",
   "metadata": {},
   "outputs": [],
   "source": [
    "file = open(r'C:\\Users\\UC17\\Desktop\\DS, ML Projects\\rf_random.pkl', 'wb')"
   ]
  },
  {
   "cell_type": "code",
   "execution_count": 121,
   "id": "cc5e535d",
   "metadata": {
    "scrolled": true
   },
   "outputs": [],
   "source": [
    "pickle.dump(model, file)"
   ]
  },
  {
   "cell_type": "code",
   "execution_count": 122,
   "id": "5e6724c9",
   "metadata": {},
   "outputs": [],
   "source": [
    "model = open(r'C:\\Users\\UC17\\Desktop\\DS, ML Projects\\rf_random.pkl', 'rb')"
   ]
  },
  {
   "cell_type": "code",
   "execution_count": 123,
   "id": "2c3088d7",
   "metadata": {},
   "outputs": [],
   "source": [
    "forest = pickle.load(model)"
   ]
  },
  {
   "cell_type": "code",
   "execution_count": 124,
   "id": "f80af054",
   "metadata": {},
   "outputs": [
    {
     "data": {
      "text/plain": [
       "array([16697.83,  6306.76,  8765.51, ...,  3513.44,  6358.92,  6995.15])"
      ]
     },
     "execution_count": 124,
     "metadata": {},
     "output_type": "execute_result"
    }
   ],
   "source": [
    "forest.predict(X_test)"
   ]
  },
  {
   "cell_type": "code",
   "execution_count": null,
   "id": "26a57771",
   "metadata": {},
   "outputs": [],
   "source": []
  },
  {
   "cell_type": "code",
   "execution_count": null,
   "id": "7f24b2b0",
   "metadata": {},
   "outputs": [],
   "source": []
  },
  {
   "cell_type": "markdown",
   "id": "750c14c5",
   "metadata": {},
   "source": [
    "### Defining our own Evaluation metric"
   ]
  },
  {
   "cell_type": "code",
   "execution_count": 125,
   "id": "81a6478a",
   "metadata": {},
   "outputs": [],
   "source": [
    "def mape(y_true,y_pred):\n",
    "    y_true,y_pred = np.array(y_true), np.array(y_pred)\n",
    "    \n",
    "    return np.mean(np.abs(y_true-y_pred)/y_true)*100"
   ]
  },
  {
   "cell_type": "code",
   "execution_count": 126,
   "id": "ff11f3ec",
   "metadata": {},
   "outputs": [
    {
     "data": {
      "text/plain": [
       "13.28697591600077"
      ]
     },
     "execution_count": 126,
     "metadata": {},
     "output_type": "execute_result"
    }
   ],
   "source": [
    "mape(y_test, y_pred)"
   ]
  },
  {
   "cell_type": "code",
   "execution_count": null,
   "id": "55d60a77",
   "metadata": {},
   "outputs": [],
   "source": []
  },
  {
   "cell_type": "code",
   "execution_count": null,
   "id": "f722523e",
   "metadata": {},
   "outputs": [],
   "source": []
  },
  {
   "cell_type": "markdown",
   "id": "4192472d",
   "metadata": {},
   "source": [
    "### How to Automate ML Pipeline "
   ]
  },
  {
   "cell_type": "code",
   "execution_count": 127,
   "id": "db4da9ba",
   "metadata": {},
   "outputs": [],
   "source": [
    "def predict(ml_model):\n",
    "    model = ml_model.fit(X_train, y_train)\n",
    "    print('Training_score: {}'.format(model.score(X_train,y_train)))\n",
    "    y_prediction = model.predict(X_test)\n",
    "    print('Predictions are: {}'.format(y_prediction))\n",
    "    print('\\n')\n",
    "    \n",
    "    from sklearn import metrics\n",
    "    r2_score = metrics.r2_score(y_test,y_prediction)\n",
    "    print('r2_score: {}'.format(r2_score))\n",
    "    print('MSE: ',metrics.mean_squared_error(y_test,y_prediction))\n",
    "    print('MAE: ',metrics.mean_absolute_error(y_test,y_prediction))\n",
    "    print('RMSE: ',np.sqrt(metrics.mean_squared_error(y_test,y_prediction)))\n",
    "    print('MAPE: ',mape(y_test,y_prediction))\n",
    "    sns.distplot(y_test-y_prediction)\n",
    "    "
   ]
  },
  {
   "cell_type": "code",
   "execution_count": 128,
   "id": "b8d2d615",
   "metadata": {},
   "outputs": [
    {
     "name": "stdout",
     "output_type": "stream",
     "text": [
      "Training_score: 0.9520791549729989\n",
      "Predictions are: [16739.55  6353.09  8753.96 ...  3613.09  6229.52  7039.16]\n",
      "\n",
      "\n",
      "r2_score: 0.8063976585222504\n",
      "MSE:  3768972.8781787297\n",
      "MAE:  1186.2967427111141\n",
      "RMSE:  1941.3842685513678\n",
      "MAPE:  13.291616178456762\n"
     ]
    },
    {
     "name": "stderr",
     "output_type": "stream",
     "text": [
      "C:\\Users\\UC17\\anaconda3\\lib\\site-packages\\seaborn\\distributions.py:2557: FutureWarning:\n",
      "\n",
      "`distplot` is a deprecated function and will be removed in a future version. Please adapt your code to use either `displot` (a figure-level function with similar flexibility) or `histplot` (an axes-level function for histograms).\n",
      "\n"
     ]
    },
    {
     "data": {
      "image/png": "[encoded data removed]",
      "text/plain": [
       "<Figure size 432x288 with 1 Axes>"
      ]
     },
     "metadata": {
      "needs_background": "light"
     },
     "output_type": "display_data"
    }
   ],
   "source": [
    "predict(RandomForestRegressor())"
   ]
  },
  {
   "cell_type": "markdown",
   "id": "110b1fb9",
   "metadata": {},
   "source": [
    "We can see in most cases our predictions matches the true value."
   ]
  },
  {
   "cell_type": "code",
   "execution_count": null,
   "id": "8aa0b36c",
   "metadata": {},
   "outputs": [],
   "source": []
  },
  {
   "cell_type": "code",
   "execution_count": null,
   "id": "fcaf4a4a",
   "metadata": {},
   "outputs": [],
   "source": []
  },
  {
   "cell_type": "markdown",
   "id": "352cd3d2",
   "metadata": {},
   "source": [
    "### How to Hypertune ML Model "
   ]
  },
  {
   "cell_type": "markdown",
   "id": "ef7863ea",
   "metadata": {},
   "source": [
    "We will use Randomized search method for hyperparameter optimization"
   ]
  },
  {
   "cell_type": "code",
   "execution_count": 129,
   "id": "fc887eac",
   "metadata": {},
   "outputs": [],
   "source": [
    "from sklearn.model_selection import RandomizedSearchCV"
   ]
  },
  {
   "cell_type": "code",
   "execution_count": 130,
   "id": "d59785d9",
   "metadata": {},
   "outputs": [],
   "source": [
    "#initialise the estimator\n",
    "\n",
    "rf_reg = RandomForestRegressor()"
   ]
  },
  {
   "cell_type": "code",
   "execution_count": 183,
   "id": "5f26274e",
   "metadata": {},
   "outputs": [],
   "source": [
    "#Number of trees in random forest\n",
    "n_estimators = [int(x) for x in np.linspace(start=1000,stop=1200,num=6)]\n",
    "\n",
    "#Number of features to consider at every split\n",
    "max_features = ['auto', 'sqrt']\n",
    "\n",
    "#Maximum number of levels in tree\n",
    "max_depth = [int(x) for x in np.linspace(start=5,stop=30,num=4)]\n",
    "\n",
    "#Minimum number of samples required to split a node\n",
    "min_samples_split = [5,10,15,100]"
   ]
  },
  {
   "cell_type": "code",
   "execution_count": 184,
   "id": "0c838e1f",
   "metadata": {},
   "outputs": [],
   "source": [
    "#Create a grid or hyperparameter space\n",
    "random_grid = {\n",
    "    'n_estimators':n_estimators,\n",
    "    'max_features':max_features,\n",
    "    'max_depth':max_depth,\n",
    "    'min_samples_split':min_samples_split\n",
    "}"
   ]
  },
  {
   "cell_type": "code",
   "execution_count": 185,
   "id": "06331ac7",
   "metadata": {},
   "outputs": [
    {
     "data": {
      "text/plain": [
       "{'n_estimators': [1000, 1040, 1080, 1120, 1160, 1200],\n",
       " 'max_features': ['auto', 'sqrt'],\n",
       " 'max_depth': [5, 13, 21, 30],\n",
       " 'min_samples_split': [5, 10, 15, 100]}"
      ]
     },
     "execution_count": 185,
     "metadata": {},
     "output_type": "execute_result"
    }
   ],
   "source": [
    "random_grid"
   ]
  },
  {
   "cell_type": "code",
   "execution_count": 186,
   "id": "0ca5411d",
   "metadata": {},
   "outputs": [],
   "source": [
    "rf_Random = RandomizedSearchCV(estimator=rf_reg, param_distributions=random_grid, cv=3, verbose=2, n_jobs=-1)"
   ]
  },
  {
   "cell_type": "code",
   "execution_count": 187,
   "id": "527c02cf",
   "metadata": {},
   "outputs": [
    {
     "name": "stdout",
     "output_type": "stream",
     "text": [
      "Fitting 3 folds for each of 10 candidates, totalling 30 fits\n"
     ]
    },
    {
     "data": {
      "text/plain": [
       "RandomizedSearchCV(cv=3, estimator=RandomForestRegressor(), n_jobs=-1,\n",
       "                   param_distributions={'max_depth': [5, 13, 21, 30],\n",
       "                                        'max_features': ['auto', 'sqrt'],\n",
       "                                        'min_samples_split': [5, 10, 15, 100],\n",
       "                                        'n_estimators': [1000, 1040, 1080, 1120,\n",
       "                                                         1160, 1200]},\n",
       "                   verbose=2)"
      ]
     },
     "execution_count": 187,
     "metadata": {},
     "output_type": "execute_result"
    }
   ],
   "source": [
    "rf_Random.fit(X_train,y_train)"
   ]
  },
  {
   "cell_type": "code",
   "execution_count": 188,
   "id": "1603c54b",
   "metadata": {},
   "outputs": [
    {
     "data": {
      "text/plain": [
       "{'n_estimators': 1160,\n",
       " 'min_samples_split': 10,\n",
       " 'max_features': 'auto',\n",
       " 'max_depth': 13}"
      ]
     },
     "execution_count": 188,
     "metadata": {},
     "output_type": "execute_result"
    }
   ],
   "source": [
    "#To get our best model\n",
    "rf_Random.best_params_"
   ]
  },
  {
   "cell_type": "code",
   "execution_count": 189,
   "id": "55924a17",
   "metadata": {},
   "outputs": [],
   "source": [
    "pred2 = rf_Random.predict(X_test)"
   ]
  },
  {
   "cell_type": "code",
   "execution_count": 190,
   "id": "1114be1a",
   "metadata": {},
   "outputs": [
    {
     "data": {
      "text/plain": [
       "0.8308493944652522"
      ]
     },
     "execution_count": 190,
     "metadata": {},
     "output_type": "execute_result"
    }
   ],
   "source": [
    "from sklearn import metrics\n",
    "metrics.r2_score(y_test, pred2)"
   ]
  },
  {
   "cell_type": "code",
   "execution_count": null,
   "id": "f58fd10d",
   "metadata": {},
   "outputs": [],
   "source": []
  }
 ],
 "metadata": {
  "kernelspec": {
   "display_name": "Python 3",
   "language": "python",
   "name": "python3"
  },
  "language_info": {
   "codemirror_mode": {
    "name": "ipython",
    "version": 3
   },
   "file_extension": ".py",
   "mimetype": "text/x-python",
   "name": "python",
   "nbconvert_exporter": "python",
   "pygments_lexer": "ipython3",
   "version": "3.8.8"
  }
 },
 "nbformat": 4,
 "nbformat_minor": 5
}
